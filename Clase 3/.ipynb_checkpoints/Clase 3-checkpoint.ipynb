{
 "cells": [
  {
   "cell_type": "markdown",
   "id": "59e6a432-0319-4b43-a6c4-0c25958af3b7",
   "metadata": {},
   "source": [
    "# Laboratorio de datos"
   ]
  },
  {
   "cell_type": "markdown",
   "id": "3323e49e-a5c0-4eb3-8ed9-d7f4686acddf",
   "metadata": {},
   "source": [
    "## Clase 3"
   ]
  },
  {
   "cell_type": "markdown",
   "id": "7f691f3e-778e-4ac3-a527-dcf482d3d48c",
   "metadata": {},
   "source": [
    "### Metodologías para la minería de datos."
   ]
  },
  {
   "cell_type": "markdown",
   "id": "5a047013-9ccb-47d4-bbc9-5d47c69824df",
   "metadata": {},
   "source": [
    "Enfoques bien establecidos para el proceso de minería de datos y descubrimiento de conocimiento. "
   ]
  },
  {
   "cell_type": "markdown",
   "id": "43cad756-0a26-4c07-b656-50dd710eb4c3",
   "metadata": {
    "jp-MarkdownHeadingCollapsed": true
   },
   "source": [
    "#### CRISP-DM."
   ]
  },
  {
   "cell_type": "markdown",
   "id": "28b39cb6-a249-4387-aa66-58967b80ed66",
   "metadata": {},
   "source": [
    "Enfoque estructurado y flexible.\n",
    "\n",
    "Fases:\n",
    "1. Comprensión del negocio. Definir objetivos y entender el problema.\n",
    "2. Comprensión de los datos. Recopilar y explorar los datos.\n",
    "3. Preparación de los datos. Limpiar y preparar los datos para el análisis.\n",
    "4. Modelado. Aplicar técnicas estadísticas y algoritmos de minería de datos.\n",
    "5. Evaluación. Evaluar el modelo y los resultados.\n",
    "6. Despliegue. Implementar el modelo y sus resultados en un entorno real."
   ]
  },
  {
   "cell_type": "markdown",
   "id": "60f78098-9d7f-4cb4-8e4c-e3c297f6ea27",
   "metadata": {
    "jp-MarkdownHeadingCollapsed": true
   },
   "source": [
    "#### KDD."
   ]
  },
  {
   "cell_type": "markdown",
   "id": "ee069938-af61-45b2-9b28-600c3e9ebe1e",
   "metadata": {},
   "source": [
    "Es el proceso general de descubrir conocimiento a partir de grandes volúmenes de datos, y es más amplio que la minería de datos.\n",
    "\n",
    "Fases:\n",
    "1. Selección de datos. Elegir y extraer datos relevantes.\n",
    "2. Preprocesamiento. Limpiar y preparar los datos.\n",
    "4. Transformación. Convertir los datos en formatos adecuados para el análisis.\n",
    "5. Minería de datos. Aplicar técnicas para descubrir patrones y relaciones en los datos.\n",
    "6. Interpretación y evaluación. Interpretar los resultados y evaluar su utilidad.\n",
    "7. Despliegue. Aplicar los conocimientos descubiertos en la práctica."
   ]
  },
  {
   "cell_type": "markdown",
   "id": "2cd6edc5-5be1-4648-bff3-6fb5cbd08a6c",
   "metadata": {
    "jp-MarkdownHeadingCollapsed": true
   },
   "source": [
    "#### SEMMA."
   ]
  },
  {
   "cell_type": "markdown",
   "id": "0a5d7c6d-6c8f-422d-813e-65b652050f4a",
   "metadata": {},
   "source": [
    "Es un enfoque desarrollado por SAS Institute para la minería de datos, centrado en la creación y evaluación de modelos.\n",
    "\n",
    "Fases:\n",
    "1. Sample. Tomar una muestra representativa de los datos.\n",
    "2. Explore. Explorar los datos para comprender su estructura y patrones.\n",
    "3. Modify. Modificar y limpiar los datos para el análisis.\n",
    "4. Model. Aplicar técnicas de modelado para encontrar patrones.\n",
    "5. Assess. Evaluar la calidad y utilidad del modelo."
   ]
  },
  {
   "cell_type": "code",
   "execution_count": null,
   "id": "4bb41f05-6066-4ccf-af8d-166ba89266d2",
   "metadata": {},
   "outputs": [],
   "source": []
  }
 ],
 "metadata": {
  "kernelspec": {
   "display_name": "Python 3 (ipykernel)",
   "language": "python",
   "name": "python3"
  },
  "language_info": {
   "codemirror_mode": {
    "name": "ipython",
    "version": 3
   },
   "file_extension": ".py",
   "mimetype": "text/x-python",
   "name": "python",
   "nbconvert_exporter": "python",
   "pygments_lexer": "ipython3",
   "version": "3.11.7"
  }
 },
 "nbformat": 4,
 "nbformat_minor": 5
}
