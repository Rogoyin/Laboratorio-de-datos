{
 "cells": [
  {
   "cell_type": "markdown",
   "id": "dd0d6e1d-19b9-4181-bccc-b1cf588e8394",
   "metadata": {},
   "source": [
    "# Laboratorio de datos"
   ]
  },
  {
   "cell_type": "markdown",
   "id": "5ac27e3c-c395-47ee-9b38-c61d056e4aa4",
   "metadata": {},
   "source": [
    "## Ejercicios de la clase 1"
   ]
  },
  {
   "cell_type": "code",
   "execution_count": 20,
   "id": "5e5b30ae-88ed-43f6-8f41-4d232b1bd0a5",
   "metadata": {},
   "outputs": [],
   "source": [
    "import pandas as pd\n",
    "import numpy as np\n",
    "import matplotlib.pyplot as plt\n",
    "import math"
   ]
  },
  {
   "cell_type": "markdown",
   "id": "1ab0dbfa-ff9e-4daa-8202-25ac8d644167",
   "metadata": {
    "jp-MarkdownHeadingCollapsed": true
   },
   "source": [
    "#### Ejercicio 1."
   ]
  },
  {
   "cell_type": "markdown",
   "id": "a573b37e-ec0b-43fe-a737-035983a0e87f",
   "metadata": {},
   "source": [
    "¿Qué valor de verdad se obtiene?"
   ]
  },
  {
   "cell_type": "code",
   "execution_count": 21,
   "id": "0a5d6756-f217-430e-a7cf-fb45bf0958d5",
   "metadata": {},
   "outputs": [],
   "source": [
    "a = 8\n",
    "b = 15\n",
    "x = 2"
   ]
  },
  {
   "cell_type": "code",
   "execution_count": 22,
   "id": "04b5d79f-08c6-4161-83b9-85d7a2b04aa8",
   "metadata": {},
   "outputs": [
    {
     "data": {
      "text/plain": [
       "True"
      ]
     },
     "execution_count": 22,
     "metadata": {},
     "output_type": "execute_result"
    }
   ],
   "source": [
    "(x < a) and (10*x >= b) and not (x == a - b)"
   ]
  },
  {
   "cell_type": "markdown",
   "id": "29639d8e-bdc1-4cb8-8791-2c936ee90b8f",
   "metadata": {
    "jp-MarkdownHeadingCollapsed": true
   },
   "source": [
    "#### Ejercicio 2."
   ]
  },
  {
   "cell_type": "markdown",
   "id": "fbbb0a03-1b53-4326-80b5-4241b51e43f3",
   "metadata": {},
   "source": [
    "Escribir un programa que decida si una palabra (de longitud 5) es palíndromo.\n",
    "\n",
    "Ej. “NADAN” es palíndromo. “JUJUY” no lo es."
   ]
  },
  {
   "cell_type": "code",
   "execution_count": 23,
   "id": "bb11820f-d642-4f73-a48a-b8c3eb592de0",
   "metadata": {},
   "outputs": [],
   "source": [
    "def es_palindromo(Palabra):\n",
    "    if Palabra[0].lower() == Palabra[-1].lower():\n",
    "        if Palabra[1].lower() == Palabra[-2].lower():\n",
    "            return True\n",
    "    else:\n",
    "        return False"
   ]
  },
  {
   "cell_type": "markdown",
   "id": "fecec272-5a70-4f8d-aa8f-9ae644320c3d",
   "metadata": {
    "jp-MarkdownHeadingCollapsed": true
   },
   "source": [
    "#### Ejercicio 3."
   ]
  },
  {
   "cell_type": "code",
   "execution_count": 24,
   "id": "9db0922d-715f-40c7-9e11-209cda0a8f16",
   "metadata": {},
   "outputs": [
    {
     "name": "stdout",
     "output_type": "stream",
     "text": [
      "b es mayor a c\n"
     ]
    }
   ],
   "source": [
    "a = 2\n",
    "b = 6\n",
    "c = 4\n",
    "\n",
    "if c > b > a:\n",
    "    print('b está entre a y c')\n",
    "elif b > c:\n",
    "    print('b es mayor a c')"
   ]
  },
  {
   "cell_type": "markdown",
   "id": "5e62871c-f80e-435b-8bf9-f9d64466f971",
   "metadata": {
    "jp-MarkdownHeadingCollapsed": true
   },
   "source": [
    "#### Ejercicio 4."
   ]
  },
  {
   "cell_type": "markdown",
   "id": "3bfde040-6ec9-4bdf-98f9-0c0b3c30fa20",
   "metadata": {},
   "source": [
    "Escribir un programa que imprima en pantalla los números enteros entre 0 y 213 que sean divisibles por 13."
   ]
  },
  {
   "cell_type": "code",
   "execution_count": 25,
   "id": "b11a9907-585b-4232-9fef-a7c9fa247684",
   "metadata": {},
   "outputs": [
    {
     "name": "stdout",
     "output_type": "stream",
     "text": [
      "13\n",
      "26\n",
      "39\n",
      "52\n",
      "65\n",
      "78\n",
      "91\n",
      "104\n",
      "117\n",
      "130\n",
      "143\n",
      "156\n",
      "169\n",
      "182\n",
      "195\n",
      "208\n"
     ]
    }
   ],
   "source": [
    "def Divisibles_por_trece():\n",
    "    i = 0\n",
    "\n",
    "    while i<= 213:\n",
    "        if i//13 > 0 and i%13 == 0:\n",
    "            print(i)\n",
    "        i = i + 1\n",
    "\n",
    "Divisibles_por_trece()"
   ]
  },
  {
   "cell_type": "markdown",
   "id": "1d5b451c-0ed1-4ef5-91cf-6d60d6484c22",
   "metadata": {
    "jp-MarkdownHeadingCollapsed": true
   },
   "source": [
    "#### Ejercicio 5."
   ]
  },
  {
   "cell_type": "markdown",
   "id": "eaa7f459-25d2-4dca-bd55-aee99539f18a",
   "metadata": {},
   "source": [
    "Una mañana ponés un billete en la vereda al lado del obelisco porteño. A partir de ahí, cada día vas y duplicás la cantidad de billetes, apilándolos prolijamente.\n",
    "¿Cuánto tiempo pasa antes de que la pila de billetes sea más alta que el obelisco?\n",
    "Datos: espesor del billete: 0.11 mm, altura obelisco: 67.5 m."
   ]
  },
  {
   "cell_type": "code",
   "execution_count": 26,
   "id": "c6003a9e-f3ce-4c03-951e-a7a21982a05f",
   "metadata": {},
   "outputs": [
    {
     "name": "stdout",
     "output_type": "stream",
     "text": [
      "Dias hasta superar obelisco: 10\n"
     ]
    }
   ],
   "source": [
    "Altura_Billete = 0.11\n",
    "Altura_Obelisco = 67.5\n",
    "Altura_Pila = 0\n",
    "\n",
    "Dias = 0\n",
    "Billetes_Puestos = 1\n",
    "\n",
    "while Altura_Pila <= Altura_Obelisco:\n",
    "    Dias = Dias + 1\n",
    "    Billetes_Puestos = Billetes_Puestos * 2\n",
    "    Altura_Pila = Altura_Billete * Billetes_Puestos\n",
    "\n",
    "print(f'Dias hasta superar obelisco: {Dias}')"
   ]
  },
  {
   "cell_type": "markdown",
   "id": "3199539c-9256-45a3-8290-bbf45b085f57",
   "metadata": {
    "jp-MarkdownHeadingCollapsed": true
   },
   "source": [
    "#### Ejercicio 6."
   ]
  },
  {
   "cell_type": "markdown",
   "id": "7914bd2d-579e-470c-a4d2-5afd63faebee",
   "metadata": {},
   "source": [
    "Una pelota de goma es arrojada desde una altura de 100 metros y cada vez \n",
    "que toca el piso salta 3/5 de la altura desde la que cayó. Escribí un program \r\n",
    "rebotes.py que imprima una tabla mostrando las alturas que alcanza en ca a\r\n",
    "uno de sus primeros diez rebots.\r"
   ]
  },
  {
   "cell_type": "code",
   "execution_count": 28,
   "id": "668268e2-d1eb-461e-956b-3adb193cea51",
   "metadata": {},
   "outputs": [
    {
     "name": "stdout",
     "output_type": "stream",
     "text": [
      "1: 60.0\n",
      "2: 36.0\n",
      "3: 21.6\n",
      "4: 12.960000000000003\n",
      "5: 7.776000000000002\n",
      "6: 4.6656\n",
      "7: 2.79936\n",
      "8: 1.679616\n",
      "9: 1.0077696\n",
      "10: 0.60466176\n"
     ]
    }
   ],
   "source": [
    "Altura = 100\n",
    "\n",
    "def Rebotes(Altura, Rebotes=10):\n",
    "    i = 1\n",
    "    \n",
    "    while i <= Rebotes:\n",
    "        Altura = Altura*3/5\n",
    "        print(f'{i}: {Altura}')\n",
    "        i = i + 1\n",
    "\n",
    "Rebotes(Altura)"
   ]
  },
  {
   "cell_type": "markdown",
   "id": "90e05f04-e9e8-42c8-a3cf-28abba2486ec",
   "metadata": {
    "jp-MarkdownHeadingCollapsed": true
   },
   "source": [
    "#### Ejercicio 7."
   ]
  },
  {
   "cell_type": "markdown",
   "id": "a257dd82-99d5-495b-ba88-0c2ed2350472",
   "metadata": {},
   "source": [
    "a) Definir una función maximo(a,b) que tome dos parámetros numéricos y devuelva el máximo."
   ]
  },
  {
   "cell_type": "code",
   "execution_count": 34,
   "id": "7eda29d2-39fe-4dd9-aa6d-a7d4ab9158ab",
   "metadata": {},
   "outputs": [
    {
     "data": {
      "text/plain": [
       "11"
      ]
     },
     "execution_count": 34,
     "metadata": {},
     "output_type": "execute_result"
    }
   ],
   "source": [
    "def maximo(a,b):\n",
    "    if a > b:\n",
    "        return a\n",
    "    elif b > a:\n",
    "        return b\n",
    "    else:\n",
    "        None\n",
    "\n",
    "maximo(11,2)"
   ]
  },
  {
   "cell_type": "markdown",
   "id": "2301176e-2feb-4562-9a39-60153b8bc528",
   "metadata": {},
   "source": [
    "b) Definir una función tachar_pares(lista) que tome una lista de números y \n",
    "devuelva una similar pero donde los números pares estén reemplazados por ‘x’."
   ]
  },
  {
   "cell_type": "code",
   "execution_count": 37,
   "id": "392c02f9-9cbf-4471-b3e7-6bdaf417ff2b",
   "metadata": {},
   "outputs": [
    {
     "data": {
      "text/plain": [
       "[1, 'x', 3, 'x']"
      ]
     },
     "execution_count": 37,
     "metadata": {},
     "output_type": "execute_result"
    }
   ],
   "source": [
    "def tachar_pares(Lista):\n",
    "    for i in range(0, len(Lista)):\n",
    "        if Lista[i] % 2 == 0:\n",
    "            Lista[i] = 'x'\n",
    "    return Lista\n",
    "\n",
    "tachar_pares([1,2,3,4])"
   ]
  },
  {
   "cell_type": "markdown",
   "id": "0abcd495-8b9f-4f2c-9a3a-be0e76f0ae79",
   "metadata": {},
   "source": [
    "Queremos hacer un traductor que cambie las palabras masculinas de una frase por su versión neutra. Como primera aproximación, intentaremos reemplazar todas las letras 'o' que figuren en el último o anteúltimo caracter de cada palabra por una 'e'.\n",
    "Por ejemplo 'todos somos programadores' pasaría a ser 'todes somes programadores'."
   ]
  },
  {
   "cell_type": "code",
   "execution_count": 84,
   "id": "706cf942-0c16-4508-9e4f-9b6b56d70900",
   "metadata": {},
   "outputs": [
    {
     "data": {
      "text/plain": [
       "'Les hombres sen putes'"
      ]
     },
     "execution_count": 84,
     "metadata": {},
     "output_type": "execute_result"
    }
   ],
   "source": [
    "def Traductor_Inclusivo(Frase):\n",
    "    Frase = list(Frase)\n",
    "    i = 0\n",
    "\n",
    "    while i < len(Frase):\n",
    "        if i > 0 and  Frase[i] == ' ':\n",
    "            Ultima_Letra = Frase[i-1]\n",
    "            Anteultima_Letra = Frase[i-2]\n",
    "\n",
    "            if Ultima_Letra == 'o':\n",
    "                Frase[i-1] = 'e'\n",
    "            else:\n",
    "                if Anteultima_Letra == 'o':\n",
    "                    Frase[i-2] = 'e'\n",
    "            \n",
    "        elif i == len(Frase)-1:\n",
    "            if Frase[i] == 'o':\n",
    "                Frase[i] = 'e'\n",
    "            else:\n",
    "                if Frase[i-1] == 'o':\n",
    "                    Frase[i-1] = 'e'\n",
    "                    \n",
    "        i = i + 1\n",
    "\n",
    "    return ''.join(Frase)\n",
    "\n",
    "Traductor_Inclusivo('Los hombres son putos')\n",
    "            "
   ]
  }
 ],
 "metadata": {
  "kernelspec": {
   "display_name": "Python 3 (ipykernel)",
   "language": "python",
   "name": "python3"
  },
  "language_info": {
   "codemirror_mode": {
    "name": "ipython",
    "version": 3
   },
   "file_extension": ".py",
   "mimetype": "text/x-python",
   "name": "python",
   "nbconvert_exporter": "python",
   "pygments_lexer": "ipython3",
   "version": "3.11.7"
  }
 },
 "nbformat": 4,
 "nbformat_minor": 5
}
