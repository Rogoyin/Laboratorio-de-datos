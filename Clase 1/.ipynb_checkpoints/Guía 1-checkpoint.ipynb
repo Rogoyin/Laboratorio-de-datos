{
 "cells": [
  {
   "cell_type": "markdown",
   "id": "dd0d6e1d-19b9-4181-bccc-b1cf588e8394",
   "metadata": {},
   "source": [
    "# Laboratorio de datos"
   ]
  },
  {
   "cell_type": "markdown",
   "id": "5ac27e3c-c395-47ee-9b38-c61d056e4aa4",
   "metadata": {},
   "source": [
    "## Guía de ejercicios 1"
   ]
  },
  {
   "cell_type": "code",
   "execution_count": 99,
   "id": "5e5b30ae-88ed-43f6-8f41-4d232b1bd0a5",
   "metadata": {},
   "outputs": [],
   "source": [
    "import pandas as pd\n",
    "import numpy as np\n",
    "import matplotlib.pyplot as plt\n",
    "import math"
   ]
  },
  {
   "cell_type": "markdown",
   "id": "15e08064-3fa0-43fc-90f6-379872faaf7e",
   "metadata": {},
   "source": [
    "1. Definir una función pertenece(lista, elem) que tome una lista y un elemento, y devuelva True si la lista tiene al elemento dado y False en caso contrario."
   ]
  },
  {
   "cell_type": "code",
   "execution_count": 100,
   "id": "0c91b2e4-ca6b-4a44-a31b-33be72ad48a6",
   "metadata": {},
   "outputs": [],
   "source": [
    "def pertenece(lista, elem):\n",
    "\n",
    "    for i in range (0, len(lista)):\n",
    "        if lista[i] == elem:\n",
    "            return True\n",
    "\n",
    "    return False                "
   ]
  },
  {
   "cell_type": "markdown",
   "id": "d4cbe7ee-78e7-471c-8f18-5d18af95aa45",
   "metadata": {},
   "source": [
    "2. Definir una función mas_larga(lista1, lista2) que tome dos listas y \n",
    "devuelva la más larga\r"
   ]
  },
  {
   "cell_type": "code",
   "execution_count": 101,
   "id": "da2e5e70-ba08-4f6e-9afc-6001287539c8",
   "metadata": {},
   "outputs": [],
   "source": [
    "def mas_larga(lista1, lista2):\n",
    "\n",
    "    if len(lista1) > len(lista2):\n",
    "        return lista1\n",
    "    elif len(lista2) > len(lista1):\n",
    "        return lista2\n",
    "    else:\n",
    "        return \"Son igual de largas\""
   ]
  },
  {
   "cell_type": "markdown",
   "id": "3c1f5e21-d295-4979-bc5f-f157140cfa76",
   "metadata": {},
   "source": [
    "3. Definir la función mezclar(cadena1, cadena2) que tome dos strings y \n",
    "devuelva el resultado de intercalar elemento a elemento. Por ejemplo: s \r\n",
    "intercalamos Pepe con Jose daría PJeopsee. En el caso de Pepe con Josefa dar a\r\n",
    "PJeopseea.\r"
   ]
  },
  {
   "cell_type": "code",
   "execution_count": 102,
   "id": "3c8e3498-3f37-492f-b1f5-670e3540ee8c",
   "metadata": {},
   "outputs": [],
   "source": [
    "def mezclar(cadena1, cadena2):\n",
    "\n",
    "    Mezcla = ''\n",
    "\n",
    "    Lista_Larga = mas_larga(cadena1,cadena2)\n",
    "\n",
    "    if cadena1 == Lista_Larga:\n",
    "        Lista_Corta = cadena2\n",
    "    elif cadena2 == Lista_Larga:\n",
    "        Lista_Corta = cadena1\n",
    "    else:\n",
    "        Lista_Larga = cadena1\n",
    "        Lista_Corta = cadena2\n",
    "        \n",
    "    for i in range(0, len(Lista_Corta)):\n",
    "        Mezcla = Mezcla + cadena1[i]\n",
    "        Mezcla = Mezcla + cadena2[i]\n",
    "\n",
    "    Resto_Lista_Larga = Lista_Larga[i+1:]\n",
    "\n",
    "    Mezcla = Mezcla + Resto_Lista_Larga\n",
    "\n",
    "    return Mezcla"
   ]
  },
  {
   "cell_type": "markdown",
   "id": "60386845-7ae4-46be-994d-1b2cfe4adfe2",
   "metadata": {},
   "source": [
    "4. David solicitó un crédito a 30 años para comprar una vivienda, con una tasa fija nominal anual del 5%. Pidió 500000 al banco y acordó un pago mensual fijo de 2684,11.\n",
    "   \n",
    "a. Escribir un programa que calcula el monto total que pagará David a lo largo de los años. Deberías obtener que en total paga 966279,6.\n",
    "\n",
    "b. Supongamos que David adelanta pagos extra de 1000/mes durante los primeros 12 meses de la hipoteca. Modificá el programa para incorporar estos pagos extra y que imprima el monto total pagado junto con la cantidad de meses requeridos. Deberías obtener que el pago total es de $929965.62 en 342 meses.\n",
    "\n",
    "c. ¿Cuánto pagaría David si agrega $1000 por mes durante cuatro años, comenzando en el sexto año de la hipoteca (es decir, luego de 5 años)? Modificá tu programa de forma que la información sobre pagos extras sea incorporada de manera versátil. Sugerimos utilizar los parámetros: pago_extra_monto, pago_extra_mes_comienzo, pago_extra_mes_fin."
   ]
  },
  {
   "cell_type": "code",
   "execution_count": 103,
   "id": "b31ebc70-def1-4def-81a4-0d2fb5e43522",
   "metadata": {},
   "outputs": [],
   "source": [
    "Prestamo = 500000\n",
    "Tasa = 5\n",
    "Años = 30\n",
    "Pago_Mensual = 2684.11\n",
    "Adelanto = 12*1000"
   ]
  },
  {
   "cell_type": "code",
   "execution_count": 104,
   "id": "62bc482e-b7a6-4cdb-963c-4eb73e38d6de",
   "metadata": {},
   "outputs": [
    {
     "data": {
      "text/plain": [
       "2684.108115060699"
      ]
     },
     "execution_count": 104,
     "metadata": {},
     "output_type": "execute_result"
    }
   ],
   "source": [
    "# a. \n",
    "\n",
    "def Prestamo_Total (Prestamo, Años, Tasa):\n",
    "    Meses = Años * 12\n",
    "    Tasa_Mensual = Tasa/12/100\n",
    "    Pago_Mensual = ((Tasa_Mensual * Prestamo) / (1 - (1 + Tasa_Mensual) ** (-Meses)))\n",
    "\n",
    "    Pago_Total = Pago_Mensual * Meses\n",
    "\n",
    "    return Pago_Mensual\n",
    "\n",
    "Prestamo_Total (Prestamo, Años, Tasa)"
   ]
  },
  {
   "cell_type": "code",
   "execution_count": 105,
   "id": "5e33a5b4-4dd1-47a8-8016-491e6da79115",
   "metadata": {},
   "outputs": [
    {
     "data": {
      "text/plain": [
       "954278.9214218517"
      ]
     },
     "execution_count": 105,
     "metadata": {},
     "output_type": "execute_result"
    }
   ],
   "source": [
    "# b.\n",
    "\n",
    "def Prestamo_Total (Prestamo, Años, Tasa, Adelanto):\n",
    "    Meses = Años * 12\n",
    "    Tasa_Mensual = Tasa/12/100\n",
    "    Pago_Mensual = ((Tasa_Mensual * Prestamo) / (1 - (1 + Tasa_Mensual) ** (-Meses)))\n",
    "\n",
    "    Pago_Total = Pago_Mensual * Meses\n",
    "\n",
    "    Interes = Pago_Total - Prestamo - Adelanto\n",
    "\n",
    "    Pago_Total = Prestamo + Interes\n",
    "\n",
    "    return Pago_Total\n",
    "\n",
    "Prestamo_Total (Prestamo, Años, Tasa, Adelanto)"
   ]
  },
  {
   "cell_type": "markdown",
   "id": "e8886640-3d48-4256-8caa-3d8d7362a596",
   "metadata": {},
   "source": [
    "5. Construí una función traductor_geringoso(lista) que, a partir de una lista de palabras, devuelva un diccionario geringoso. Las claves del diccionario deben ser \n",
    "las palabras de la lista y los valores deben ser sus traducciones al geringoo. \r\n",
    "Por ejemplo, al tomar la lista ['banana', 'manzana', 'mandarina']ebe e\r\n",
    "devolver {'banana': 'bapanapanapa', 'manzan ': 'mapanzapa  ',\r\n",
    "'mandarina': 'mapandaparipinapa'}."
   ]
  },
  {
   "cell_type": "code",
   "execution_count": 116,
   "id": "12273235-7196-4f76-aa64-341325082d2e",
   "metadata": {},
   "outputs": [
    {
     "data": {
      "text/plain": [
       "{'banana': 'bapanapanapa',\n",
       " 'Manzana': 'Mapanzapanapa',\n",
       " 'mandarina': 'mapandaparipinapa'}"
      ]
     },
     "execution_count": 116,
     "metadata": {},
     "output_type": "execute_result"
    }
   ],
   "source": [
    "def traductor_geringoso(lista):\n",
    "\n",
    "    Diccionario = {}\n",
    "\n",
    "    for i in range (0, len(lista)):\n",
    "        Palabra = lista[i]\n",
    "        Palabra_Traducida = ''\n",
    "\n",
    "        k = 0\n",
    "        \n",
    "        while k < len(Palabra):\n",
    "            Letra = Palabra[k]\n",
    "\n",
    "            if Letra == 'a':\n",
    "                Palabra_Traducida += Letra + 'pa'\n",
    "                k = k + 1\n",
    "\n",
    "            elif Letra == 'e':\n",
    "                Palabra_Traducida += Letra + 'pe'\n",
    "                k = k + 1\n",
    "\n",
    "            elif Letra == 'i':\n",
    "                Palabra_Traducida += Letra + 'pi'\n",
    "                k = k + 1\n",
    "\n",
    "            elif Letra == 'o':\n",
    "                Palabra_Traducida += Letra + 'po'\n",
    "                k = k + 1\n",
    "\n",
    "            elif Letra == 'u':\n",
    "                Palabra_Traducida += Letra + 'pu'\n",
    "                k = k + 1\n",
    "\n",
    "            else:\n",
    "                Palabra_Traducida += Letra\n",
    "                k = k + 1\n",
    "\n",
    "        Diccionario[Palabra] = Palabra_Traducida\n",
    "\n",
    "    return Diccionario\n",
    "            \n",
    "\n",
    "traductor_geringoso(['banana', 'Manzana', 'mandarina'])"
   ]
  },
  {
   "attachments": {
    "45c31504-3530-4d85-a958-a4a6050ec0a4.png": {
     "image/png": "[encoded data removed]"
    }
   },
   "cell_type": "markdown",
   "id": "bbe549b9-5088-43fc-b13f-4520e03aca31",
   "metadata": {},
   "source": [
    "6. Escribí un programa que imprima de forma prolija las tablas de multiplicar del 1 al 9 usando f-strings. Si podés, evitá usar la multiplicación, usando sólo suma alcanza.\n",
    "   \n",
    "![image.png](attachment:45c31504-3530-4d85-a958-a4a6050ec0a4.png)."
   ]
  },
  {
   "cell_type": "code",
   "execution_count": 134,
   "id": "1f2a4dac-c502-4e89-8b4f-91a98b6b9532",
   "metadata": {},
   "outputs": [
    {
     "name": "stdout",
     "output_type": "stream",
     "text": [
      "0: 0  0  0  0  0  0  0  0  0  0 \n",
      "1: 0  1  2  3  4  5  6  7  8  9 \n",
      "2: 0  2  4  6  8  10 12 14 16 18\n",
      "3: 0  3  6  9  12 15 18 21 24 27\n",
      "4: 0  4  8  12 16 20 24 28 32 36\n",
      "5: 0  5  10 15 20 25 30 35 40 45\n",
      "6: 0  6  12 18 24 30 36 42 48 54\n",
      "7: 0  7  14 21 28 35 42 49 56 63\n",
      "8: 0  8  16 24 32 40 48 56 64 72\n",
      "9: 0  9  18 27 36 45 54 63 72 81\n"
     ]
    }
   ],
   "source": [
    "def Tablas(Maximo):\n",
    "    i = 0\n",
    "    Espacio = ' '\n",
    "\n",
    "    for i in range(0, Maximo+1):\n",
    "        Linea = f'{i}:'\n",
    "\n",
    "        for k in range(0, Maximo+1):\n",
    "            Numero = i * k\n",
    "            Numero = str(Numero)\n",
    "            \n",
    "            if len(Numero) != 2:\n",
    "                Numero = Numero + Espacio * (2-len(Numero))\n",
    "            \n",
    "            Linea = Linea + Espacio + Numero\n",
    "        \n",
    "        print(Linea)\n",
    "        \n",
    "\n",
    "Tablas(9)"
   ]
  }
 ],
 "metadata": {
  "kernelspec": {
   "display_name": "Python 3 (ipykernel)",
   "language": "python",
   "name": "python3"
  },
  "language_info": {
   "codemirror_mode": {
    "name": "ipython",
    "version": 3
   },
   "file_extension": ".py",
   "mimetype": "text/x-python",
   "name": "python",
   "nbconvert_exporter": "python",
   "pygments_lexer": "ipython3",
   "version": "3.11.7"
  }
 },
 "nbformat": 4,
 "nbformat_minor": 5
}
