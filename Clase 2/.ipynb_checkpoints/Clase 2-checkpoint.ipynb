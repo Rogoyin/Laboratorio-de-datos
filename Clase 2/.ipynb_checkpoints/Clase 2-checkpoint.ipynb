{
 "cells": [
  {
   "cell_type": "markdown",
   "id": "dd0d6e1d-19b9-4181-bccc-b1cf588e8394",
   "metadata": {},
   "source": [
    "# Laboratorio de datos"
   ]
  },
  {
   "cell_type": "markdown",
   "id": "5ac27e3c-c395-47ee-9b38-c61d056e4aa4",
   "metadata": {},
   "source": [
    "## Clase 2"
   ]
  },
  {
   "cell_type": "markdown",
   "id": "4043181d-9672-49c9-a95e-f65c34028358",
   "metadata": {
    "jp-MarkdownHeadingCollapsed": true
   },
   "source": [
    "### Paquetes"
   ]
  },
  {
   "cell_type": "code",
   "execution_count": 1,
   "id": "5e5b30ae-88ed-43f6-8f41-4d232b1bd0a5",
   "metadata": {},
   "outputs": [],
   "source": [
    "import pandas as pd\n",
    "import numpy as np\n",
    "import matplotlib.pyplot as plt\n",
    "import math"
   ]
  },
  {
   "cell_type": "markdown",
   "id": "7731d849-75a8-47b7-9701-64c49aec3fd5",
   "metadata": {
    "jp-MarkdownHeadingCollapsed": true
   },
   "source": [
    "### Dataset"
   ]
  },
  {
   "cell_type": "code",
   "execution_count": 110,
   "id": "43438b42-17eb-40a3-8dad-ed3d17581e37",
   "metadata": {},
   "outputs": [],
   "source": [
    "Espacios = 'arbolado-en-espacios-verdes.csv'\n",
    "\n",
    "df_Espacios = pd.read_csv(Espacios, index_col = 2)"
   ]
  },
  {
   "cell_type": "code",
   "execution_count": 111,
   "id": "b630058d-6c51-45b8-a469-9acd9f0cba0a",
   "metadata": {},
   "outputs": [
    {
     "name": "stderr",
     "output_type": "stream",
     "text": [
      "C:\\Users\\tomas\\AppData\\Local\\Temp\\ipykernel_13144\\2890767425.py:1: DtypeWarning: Columns (2,7,8) have mixed types. Specify dtype option on import or set low_memory=False.\n",
      "  df_Veredas = pd.read_csv('arbolado-publico-lineal-2017-2018.csv')\n"
     ]
    }
   ],
   "source": [
    "df_Veredas = pd.read_csv('arbolado-publico-lineal-2017-2018.csv')"
   ]
  },
  {
   "cell_type": "markdown",
   "id": "24aab309-5b1a-4740-ba06-cc34cc50c125",
   "metadata": {},
   "source": [
    "### Ejercicios"
   ]
  },
  {
   "cell_type": "markdown",
   "id": "a2840110-11fb-4c95-9cbb-148599f53526",
   "metadata": {
    "jp-MarkdownHeadingCollapsed": true
   },
   "source": [
    "#### Ejercicio 1."
   ]
  },
  {
   "cell_type": "markdown",
   "id": "15e08064-3fa0-43fc-90f6-379872faaf7e",
   "metadata": {},
   "source": [
    "1. Escribir una función generala_tirar() que simule una tirada de dados para el juego de la generala. Es decir, debe \n",
    "devolver una lista aleatoria de 5 valores de dados. Por ejemplo [2,3,2,1,6]\r"
   ]
  },
  {
   "cell_type": "code",
   "execution_count": 5,
   "id": "0c91b2e4-ca6b-4a44-a31b-33be72ad48a6",
   "metadata": {},
   "outputs": [
    {
     "data": {
      "text/plain": [
       "[6, 1, 6, 6, 6]"
      ]
     },
     "execution_count": 5,
     "metadata": {},
     "output_type": "execute_result"
    }
   ],
   "source": [
    "import random \n",
    "\n",
    "def generala_tirar():\n",
    "    Tirada = []\n",
    "    for i in range(0,5):\n",
    "        Tirada.append(random.randint(1,6))\n",
    "    return Tirada\n",
    "\n",
    "generala_tirar()"
   ]
  },
  {
   "cell_type": "markdown",
   "id": "a3ca7889-ab48-4cf1-8314-5e58b93e1456",
   "metadata": {
    "jp-MarkdownHeadingCollapsed": true
   },
   "source": [
    "#### Ejercicio 2."
   ]
  },
  {
   "cell_type": "markdown",
   "id": "d4cbe7ee-78e7-471c-8f18-5d18af95aa45",
   "metadata": {},
   "source": [
    "2. Agregar al ejercicio generala_tirar() que además imprima en pantalla si salió poker, full, generala, escalera o \n",
    "ninguna de las anteriores. Por ejemplo, si sale 2,1,1,2,2 debe devolver [2,1,1,2,2] e imprimir en pantalla Full\r"
   ]
  },
  {
   "cell_type": "code",
   "execution_count": 19,
   "id": "da2e5e70-ba08-4f6e-9afc-6001287539c8",
   "metadata": {},
   "outputs": [],
   "source": [
    "def generala_tirar():\n",
    "    Tirada = []\n",
    "    for i in range(0,5):\n",
    "        Tirada.append(random.randint(1,6))\n",
    "\n",
    "    Veces = []\n",
    "\n",
    "    for i in range(1,7):\n",
    "        Veces.append(Tirada.count(i))\n",
    "\n",
    "    if 5 in Veces:\n",
    "        print('Generala')\n",
    "        print(Tirada)\n",
    "        return Tirada\n",
    "    elif 4 in Veces:\n",
    "        print('Poker')\n",
    "        print(Tirada)\n",
    "        return Tirada\n",
    "    elif 3 in Veces and 2 in Veces:\n",
    "        print('Full')\n",
    "        print(Tirada)\n",
    "        return Tirada\n",
    "    elif Veces.count(1) == 5:\n",
    "        if Veces[0] == 0 or Veces[5] == 0:\n",
    "            print('Escalera')\n",
    "            print(Tirada)\n",
    "            return Tirada\n",
    "    else:\n",
    "        print('No salió nada')\n",
    "        print(Tirada)\n",
    "        return Tirada"
   ]
  },
  {
   "cell_type": "markdown",
   "id": "9a37fdb4-dfbb-4e86-bb65-a8d7e2a26335",
   "metadata": {
    "jp-MarkdownHeadingCollapsed": true
   },
   "source": [
    "#### Ejercicio 3."
   ]
  },
  {
   "cell_type": "markdown",
   "id": "3c1f5e21-d295-4979-bc5f-f157140cfa76",
   "metadata": {},
   "source": [
    "3. Escribir un programa que recorra las líneas del archivo ‘datame.txt’ e imprima solamente las líneas que contienen la \n",
    "palabra ‘estudiante’ .\r",
    "\r"
   ]
  },
  {
   "cell_type": "code",
   "execution_count": 20,
   "id": "3c8e3498-3f37-492f-b1f5-670e3540ee8c",
   "metadata": {},
   "outputs": [
    {
     "name": "stdout",
     "output_type": "stream",
     "text": [
      "– Ser un lugar de encuentro entre todos/as los/as que nos sentimos cercanos a LCD ya sea por ser estudiantes de la carrera o carrera cercanas, docentes, investigadores/as interesados/as o simplemente amigos/as de LCD.\n",
      "\n",
      "– Ofrecer a estudiantes de la carrera un panorama amplio de posibles caminos que puede recorrer un/a especialista en ciencias de datos.\n",
      "\n",
      "– Exponer a estudiantes de LCD a importantes referentes de la disciplina que trabajan en diversos ámbitos (investigación científica, empresas, organismos estatales, ONGs, etc. )\n",
      "\n",
      "Está destinado principalmente a estudiantes de la carrera, pero todas/os somos bienvenidas/os.\n",
      "\n"
     ]
    }
   ],
   "source": [
    "with open('datame.txt', 'rt', encoding='utf-8') as Archivo:\n",
    "    for Linea in Archivo:\n",
    "        if 'estudiante' in Linea:\n",
    "            print (Linea)"
   ]
  },
  {
   "cell_type": "markdown",
   "id": "782fa5e8-23cd-4232-9d54-7c2ee5f1292e",
   "metadata": {
    "jp-MarkdownHeadingCollapsed": true
   },
   "source": [
    "#### Ejercicio 4."
   ]
  },
  {
   "attachments": {},
   "cell_type": "markdown",
   "id": "60386845-7ae4-46be-994d-1b2cfe4adfe2",
   "metadata": {},
   "source": [
    "4. Utilizando el archivo cronograma_sugerido , armar una lista de las materias del cronograma, llamada “lista_materias ”.\r"
   ]
  },
  {
   "cell_type": "code",
   "execution_count": 21,
   "id": "b31ebc70-def1-4def-81a4-0d2fb5e43522",
   "metadata": {},
   "outputs": [],
   "source": [
    "import pandas as pd"
   ]
  },
  {
   "cell_type": "code",
   "execution_count": 24,
   "id": "c4a97b21-36f1-4756-b147-e99280ea2177",
   "metadata": {},
   "outputs": [
    {
     "data": {
      "text/plain": [
       "Index(['Cuatrimestre', 'Asignatura', 'Correlatividad de Asignaturas'], dtype='object')"
      ]
     },
     "execution_count": 24,
     "metadata": {},
     "output_type": "execute_result"
    }
   ],
   "source": [
    "Cronograma = pd.read_csv('cronograma_sugerido.csv')\n",
    "Cronograma.columns"
   ]
  },
  {
   "cell_type": "code",
   "execution_count": 27,
   "id": "70a59a0c-1b64-40bc-a2e3-50f22fdbd294",
   "metadata": {},
   "outputs": [
    {
     "data": {
      "text/html": [
       "<div>\n",
       "<style scoped>\n",
       "    .dataframe tbody tr th:only-of-type {\n",
       "        vertical-align: middle;\n",
       "    }\n",
       "\n",
       "    .dataframe tbody tr th {\n",
       "        vertical-align: top;\n",
       "    }\n",
       "\n",
       "    .dataframe thead th {\n",
       "        text-align: right;\n",
       "    }\n",
       "</style>\n",
       "<table border=\"1\" class=\"dataframe\">\n",
       "  <thead>\n",
       "    <tr style=\"text-align: right;\">\n",
       "      <th></th>\n",
       "      <th>Cuatrimestre</th>\n",
       "      <th>Asignatura</th>\n",
       "      <th>Correlatividad de Asignaturas</th>\n",
       "    </tr>\n",
       "  </thead>\n",
       "  <tbody>\n",
       "    <tr>\n",
       "      <th>0</th>\n",
       "      <td>3</td>\n",
       "      <td>Álgebra I</td>\n",
       "      <td>CBC</td>\n",
       "    </tr>\n",
       "    <tr>\n",
       "      <th>1</th>\n",
       "      <td>3</td>\n",
       "      <td>Algoritmos y Estructuras de Datos I</td>\n",
       "      <td>CBC</td>\n",
       "    </tr>\n",
       "    <tr>\n",
       "      <th>2</th>\n",
       "      <td>4</td>\n",
       "      <td>Análisis I</td>\n",
       "      <td>CBC</td>\n",
       "    </tr>\n",
       "    <tr>\n",
       "      <th>3</th>\n",
       "      <td>4</td>\n",
       "      <td>Electiva de Introducción a las Ciencias Naturales</td>\n",
       "      <td>CBC</td>\n",
       "    </tr>\n",
       "    <tr>\n",
       "      <th>4</th>\n",
       "      <td>5</td>\n",
       "      <td>Análisis II</td>\n",
       "      <td>Análisis I</td>\n",
       "    </tr>\n",
       "    <tr>\n",
       "      <th>5</th>\n",
       "      <td>5</td>\n",
       "      <td>Álgebra Lineal Computacional</td>\n",
       "      <td>Álgebra I – Algoritmos y Estructuras de Datos I</td>\n",
       "    </tr>\n",
       "    <tr>\n",
       "      <th>6</th>\n",
       "      <td>5</td>\n",
       "      <td>Laboratorio de Datos</td>\n",
       "      <td>Algoritmos y Estructuras de Datos I</td>\n",
       "    </tr>\n",
       "    <tr>\n",
       "      <th>7</th>\n",
       "      <td>6</td>\n",
       "      <td>Análisis Avanzado</td>\n",
       "      <td>Análisis II, Álgebra I</td>\n",
       "    </tr>\n",
       "    <tr>\n",
       "      <th>8</th>\n",
       "      <td>6</td>\n",
       "      <td>Algoritmos y Estructuras de Datos II</td>\n",
       "      <td>Algoritmos y Estructuras de Datos I</td>\n",
       "    </tr>\n",
       "    <tr>\n",
       "      <th>9</th>\n",
       "      <td>7</td>\n",
       "      <td>Probabilidad</td>\n",
       "      <td>Análisis Avanzado</td>\n",
       "    </tr>\n",
       "    <tr>\n",
       "      <th>10</th>\n",
       "      <td>7</td>\n",
       "      <td>Algoritmos y Estructura de Datos III</td>\n",
       "      <td>Algoritmos y Estructuras de Datos II</td>\n",
       "    </tr>\n",
       "    <tr>\n",
       "      <th>11</th>\n",
       "      <td>8</td>\n",
       "      <td>Intr. a la Estadística y Ciencia de Datos</td>\n",
       "      <td>Lab de Datos, Probabilidad, Álgebra Lineal Com...</td>\n",
       "    </tr>\n",
       "    <tr>\n",
       "      <th>12</th>\n",
       "      <td>8</td>\n",
       "      <td>Intr. a la Investigación Operativa y Optimización</td>\n",
       "      <td>Alg y Estruc de Datos III, Análisis II, Álgebr...</td>\n",
       "    </tr>\n",
       "    <tr>\n",
       "      <th>13</th>\n",
       "      <td>8</td>\n",
       "      <td>Intr. al Modelado Continuo.</td>\n",
       "      <td>Análisis Avanzado, Álgebra Lineal Computaciona...</td>\n",
       "    </tr>\n",
       "  </tbody>\n",
       "</table>\n",
       "</div>"
      ],
      "text/plain": [
       "    Cuatrimestre                                         Asignatura  \\\n",
       "0              3                                          Álgebra I   \n",
       "1              3                Algoritmos y Estructuras de Datos I   \n",
       "2              4                                         Análisis I   \n",
       "3              4  Electiva de Introducción a las Ciencias Naturales   \n",
       "4              5                                        Análisis II   \n",
       "5              5                       Álgebra Lineal Computacional   \n",
       "6              5                               Laboratorio de Datos   \n",
       "7              6                                  Análisis Avanzado   \n",
       "8              6               Algoritmos y Estructuras de Datos II   \n",
       "9              7                                       Probabilidad   \n",
       "10             7               Algoritmos y Estructura de Datos III   \n",
       "11             8          Intr. a la Estadística y Ciencia de Datos   \n",
       "12             8  Intr. a la Investigación Operativa y Optimización   \n",
       "13             8                        Intr. al Modelado Continuo.   \n",
       "\n",
       "                        Correlatividad de Asignaturas  \n",
       "0                                                 CBC  \n",
       "1                                                 CBC  \n",
       "2                                                 CBC  \n",
       "3                                                 CBC  \n",
       "4                                          Análisis I  \n",
       "5     Álgebra I – Algoritmos y Estructuras de Datos I  \n",
       "6                 Algoritmos y Estructuras de Datos I  \n",
       "7                              Análisis II, Álgebra I  \n",
       "8                 Algoritmos y Estructuras de Datos I  \n",
       "9                                   Análisis Avanzado  \n",
       "10               Algoritmos y Estructuras de Datos II  \n",
       "11  Lab de Datos, Probabilidad, Álgebra Lineal Com...  \n",
       "12  Alg y Estruc de Datos III, Análisis II, Álgebr...  \n",
       "13  Análisis Avanzado, Álgebra Lineal Computaciona...  "
      ]
     },
     "execution_count": 27,
     "metadata": {},
     "output_type": "execute_result"
    }
   ],
   "source": [
    "Lista_Materias = []\n",
    "\n",
    "for Materias in Cronograma['Asignatura']:\n",
    "    Lista_Materias.append(Materias)\n",
    "\n",
    "Cronograma"
   ]
  },
  {
   "cell_type": "markdown",
   "id": "c5c28028-50ca-4d3f-8780-dba9bffc7671",
   "metadata": {
    "jp-MarkdownHeadingCollapsed": true
   },
   "source": [
    "#### Ejercicio 5."
   ]
  },
  {
   "cell_type": "markdown",
   "id": "e8886640-3d48-4256-8caa-3d8d7362a596",
   "metadata": {},
   "source": [
    "5. Luego, definir una función “cuantas_materias (n)” que, dado un número de cuatrimestre (n entre 3 y 8), devuelva la \n",
    "cantidad de materias a cursar en ese cuatrimestre. Por ejemplo  cuantas_materias(5) debe devolver 3."
   ]
  },
  {
   "cell_type": "code",
   "execution_count": 32,
   "id": "12273235-7196-4f76-aa64-341325082d2e",
   "metadata": {},
   "outputs": [
    {
     "data": {
      "text/plain": [
       "3"
      ]
     },
     "execution_count": 32,
     "metadata": {},
     "output_type": "execute_result"
    }
   ],
   "source": [
    "def cuantas_materias(n):\n",
    "    if n >= 3 and n <= 8:\n",
    "        return Cronograma['Cuatrimestre'].tolist().count(n)\n",
    "    else:\n",
    "        print('No es un n válido')\n",
    "\n",
    "cuantas_materias(8)"
   ]
  },
  {
   "cell_type": "markdown",
   "id": "80243739-7fd6-4fc2-ba13-fbb8ae1a1319",
   "metadata": {
    "jp-MarkdownHeadingCollapsed": true
   },
   "source": [
    "#### Ejercicio 6."
   ]
  },
  {
   "attachments": {},
   "cell_type": "markdown",
   "id": "bbe549b9-5088-43fc-b13f-4520e03aca31",
   "metadata": {},
   "source": [
    "6. Definir una función materias_cuatrimestre(nombre_archivo, n) que recorra el archivo indicado, conteniendo \n",
    "información de un cronograma sugerido de cursada, y devuelva una lista de diccionarios con la información de las materia \r\n",
    "sugeridas para cursar el n-ésimo cuatrimestr.\r"
   ]
  },
  {
   "cell_type": "code",
   "execution_count": 48,
   "id": "1f2a4dac-c502-4e89-8b4f-91a98b6b9532",
   "metadata": {},
   "outputs": [
    {
     "name": "stdout",
     "output_type": "stream",
     "text": [
      "{'Materia': 'Análisis II', 'Correlatividades': 'Análisis I', 'Cuatrimestre sugerido': 5}\n",
      "{'Materia': 'Álgebra Lineal Computacional', 'Correlatividades': 'Álgebra I – Algoritmos y Estructuras de Datos I', 'Cuatrimestre sugerido': 5}\n",
      "{'Materia': 'Laboratorio de Datos', 'Correlatividades': 'Algoritmos y Estructuras de Datos I', 'Cuatrimestre sugerido': 5}\n"
     ]
    }
   ],
   "source": [
    "def materias_cuatrimestre(Archivo, n):\n",
    "    df = pd.read_csv(Archivo)\n",
    "    Lista = []\n",
    "\n",
    "    # Filtrar filas.\n",
    "    df = df[df['Cuatrimestre'] == n]\n",
    "\n",
    "    # Resetear index.\n",
    "    df = df.reset_index()\n",
    "    \n",
    "    for i in range (0, len(df)):\n",
    "        Diccionario = {}\n",
    "        Diccionario['Materia'] = df.iloc[i, 2]\n",
    "        Diccionario['Correlatividades'] = df.iloc[i, 3]\n",
    "        Diccionario['Cuatrimestre sugerido'] = df.iloc[i, 1]\n",
    "        print(Diccionario)\n",
    "\n",
    "materias_cuatrimestre('cronograma_sugerido.csv', 5)"
   ]
  },
  {
   "cell_type": "markdown",
   "id": "b3dc6b82-d9c0-4110-a4c1-df5115867af1",
   "metadata": {
    "jp-MarkdownHeadingCollapsed": true
   },
   "source": [
    "#### Ejercicio 7."
   ]
  },
  {
   "attachments": {
    "e92f849b-4440-4593-bff6-45b3cd3b3c93.png": {
     "image/png": "[encoded data removed]"
    }
   },
   "cell_type": "markdown",
   "id": "2a11db2e-df49-426c-aea3-c666c402a3d8",
   "metadata": {},
   "source": [
    "7. Definir una función materias_cuatrimestre(nombre_archivo, n) que recorra el archivo indicado, \n",
    "conteniendo información de un cronograma sugerido de cursada, y devuelva una lista de diccionarios con l \r\n",
    "información de las materias sugeridas para cursar el n-ésimo cuatrimestr\n",
    "\n",
    "![image.png](attachment:e92f849b-4440-4593-bff6-45b3cd3b3c93.png)e."
   ]
  },
  {
   "cell_type": "code",
   "execution_count": 49,
   "id": "70e9fa24-59f9-4688-a94b-e05e5d959b19",
   "metadata": {},
   "outputs": [],
   "source": [
    "def materias_cuatrimestre(Archivo, n):\n",
    "    df = pd.read_csv(Archivo)\n",
    "    Lista = []\n",
    "\n",
    "    # Filtrar filas.\n",
    "    df = df[df['Cuatrimestre'] == n]\n",
    "\n",
    "    # Resetear index.\n",
    "    df = df.reset_index()\n",
    "    \n",
    "    for i in range (0, len(df)):\n",
    "        Diccionario = {}\n",
    "        Diccionario['Materia'] = df.iloc[i, 2]\n",
    "        Diccionario['Correlatividades'] = df.iloc[i, 3]\n",
    "        Diccionario['Cuatrimestre sugerido'] = df.iloc[i, 1]\n",
    "        print(Diccionario)"
   ]
  },
  {
   "cell_type": "markdown",
   "id": "9daafcb3-9960-4e92-9800-ece6001ecb30",
   "metadata": {
    "jp-MarkdownHeadingCollapsed": true
   },
   "source": [
    "#### Ejercicio 8."
   ]
  },
  {
   "cell_type": "markdown",
   "id": "dde4748d-12fa-4239-874d-161672e98751",
   "metadata": {},
   "source": [
    "Definir una función pisar_elemento(M,e) que tome una matriz de enteros M y un entero e y devuelva \n",
    "una matriz similar a M donde las entradas coincidentes con e fueron cambiadas por -1 \r\n",
    "Por ejemplo si M = np.array([[0, 1, 2, 3], [4, 5, 6, 7]]) y e = 2, entonces la función\r\n",
    "debe devolver la matriz np.array([[0, 1, -1, 3], [4, 5, 6, 7]]) "
   ]
  },
  {
   "cell_type": "code",
   "execution_count": 53,
   "id": "3e1f23e4-c986-4c77-a527-5789afb43e4e",
   "metadata": {},
   "outputs": [
    {
     "data": {
      "text/plain": [
       "array([[ 1, -1,  3],\n",
       "       [-1,  3, -1]])"
      ]
     },
     "execution_count": 53,
     "metadata": {},
     "output_type": "execute_result"
    }
   ],
   "source": [
    "import numpy as np \n",
    "\n",
    "def pisar_elemento(M,e):\n",
    "    for i in range (0, len(M)):\n",
    "        for k in range (0, len(M[i])):\n",
    "            if M[i][k] == e:\n",
    "                M[i][k] = -1\n",
    "    return M\n",
    "\n",
    "pisar_elemento(np.array([[1,2,3],[2,3,2]]), 2)"
   ]
  },
  {
   "cell_type": "markdown",
   "id": "917d8c69-e7ef-4706-81f8-09cc619eb4d2",
   "metadata": {
    "jp-MarkdownHeadingCollapsed": true
   },
   "source": [
    "#### Ejercicio 9."
   ]
  },
  {
   "cell_type": "markdown",
   "id": "a44cbba2-dd50-4ff8-aff1-306c4ac0f61e",
   "metadata": {},
   "source": [
    "9. Armar un dataframe que contenga las filas de Jacarandás y otro con los \n",
    "Palos Borrachos.\r"
   ]
  },
  {
   "cell_type": "code",
   "execution_count": 59,
   "id": "7423a877-3bbb-4100-a63d-d1025f4c4f89",
   "metadata": {},
   "outputs": [],
   "source": [
    "import pandas as pd\n",
    "\n",
    "Archivo = \"arbolado-en-espacios-verdes.csv\""
   ]
  },
  {
   "cell_type": "code",
   "execution_count": 63,
   "id": "8b0d259f-9868-40a2-82e5-269938564394",
   "metadata": {},
   "outputs": [
    {
     "data": {
      "text/plain": [
       "Index(['long', 'lat', 'id_arbol', 'altura_tot', 'diametro', 'inclinacio',\n",
       "       'id_especie', 'nombre_com', 'nombre_cie', 'tipo_folla', 'espacio_ve',\n",
       "       'ubicacion', 'nombre_fam', 'nombre_gen', 'origen', 'coord_x',\n",
       "       'coord_y'],\n",
       "      dtype='object')"
      ]
     },
     "execution_count": 63,
     "metadata": {},
     "output_type": "execute_result"
    }
   ],
   "source": [
    "# Armar df de csv.\n",
    "df = pd.read_csv(Archivo)\n",
    "\n",
    "# Columnas.\n",
    "df.columns"
   ]
  },
  {
   "cell_type": "code",
   "execution_count": 64,
   "id": "733b977b-df3e-4582-a33c-34a6ad774d5a",
   "metadata": {},
   "outputs": [],
   "source": [
    "# Subdataframe con jacarandás.\n",
    "Jacaranda = df[df['nombre_com'] == 'Jacarandá']"
   ]
  },
  {
   "cell_type": "code",
   "execution_count": 65,
   "id": "6cfb64fa-ccd1-4009-a4a0-f0fbe826c89c",
   "metadata": {},
   "outputs": [],
   "source": [
    "# Subdataframe con palos borrachos.\n",
    "Borrachos = df[df['nombre_com'] == 'Palo borracho rosado']"
   ]
  },
  {
   "cell_type": "markdown",
   "id": "d4f813b3-d335-43c0-be7b-8612fd30a04c",
   "metadata": {
    "jp-MarkdownHeadingCollapsed": true
   },
   "source": [
    "#### Ejercicio 10."
   ]
  },
  {
   "cell_type": "markdown",
   "id": "b93b0a78-d0bc-40a7-b7a7-7f6c2af7a553",
   "metadata": {},
   "source": [
    "10. Calcular para cada especie seleccionada:\r\n",
    "\r\n",
    "- Cantidad de árboles, altura máxima, mínima y promedio, diámetro máximo, mínimo y promedio.\r\n",
    "- Definir una función cantidad_arboles(parque) que, dado el nombre de un parque, calcule la cantidad de árboles que tiene.ene.\r"
   ]
  },
  {
   "cell_type": "code",
   "execution_count": 66,
   "id": "bfd7ef23-bdf2-471a-acb0-e1de80ad3038",
   "metadata": {},
   "outputs": [
    {
     "name": "stdout",
     "output_type": "stream",
     "text": [
      "3255\n",
      "3150\n"
     ]
    }
   ],
   "source": [
    "# Contar número de filas.\n",
    "Arboles_Jacaranda = Jacaranda.count().max()\n",
    "Arboles_Borrachos = Borrachos.count().max()\n",
    "\n",
    "print(Arboles_Jacaranda)\n",
    "print(Arboles_Borrachos)"
   ]
  },
  {
   "cell_type": "code",
   "execution_count": 67,
   "id": "aa36602b-efaf-4ba7-b8f4-2e4090dd3dc1",
   "metadata": {},
   "outputs": [
    {
     "name": "stdout",
     "output_type": "stream",
     "text": [
      "49\n",
      "47\n"
     ]
    }
   ],
   "source": [
    "# Altura máxima.\n",
    "Max_Altura_Jacaranda = Jacaranda['altura_tot'].max()\n",
    "Max_Altura_Borrachos = Borrachos['altura_tot'].max()\n",
    "\n",
    "print(Max_Altura_Jacaranda)\n",
    "print(Max_Altura_Borrachos)"
   ]
  },
  {
   "cell_type": "code",
   "execution_count": 68,
   "id": "08a57eff-a57a-438c-b9f3-950b9340d28b",
   "metadata": {},
   "outputs": [
    {
     "name": "stdout",
     "output_type": "stream",
     "text": [
      "1\n",
      "0\n"
     ]
    }
   ],
   "source": [
    "# Altura mínima.\n",
    "Min_Altura_Jacaranda = Jacaranda['altura_tot'].min()\n",
    "Min_Altura_Borrachos = Borrachos['altura_tot'].min()\n",
    "\n",
    "print(Min_Altura_Jacaranda)\n",
    "print(Min_Altura_Borrachos)"
   ]
  },
  {
   "cell_type": "code",
   "execution_count": 69,
   "id": "8d4130fc-52b7-48d9-afd5-cd84a95e0e2b",
   "metadata": {},
   "outputs": [
    {
     "name": "stdout",
     "output_type": "stream",
     "text": [
      "10.369585253456222\n",
      "10.62984126984127\n"
     ]
    }
   ],
   "source": [
    "# Promedio de altura.\n",
    "Prom_Altura_Jacaranda = Jacaranda['altura_tot'].mean()\n",
    "Prom_Altura_Borrachos = Borrachos['altura_tot'].mean()\n",
    "\n",
    "print(Prom_Altura_Jacaranda)\n",
    "print(Prom_Altura_Borrachos)"
   ]
  },
  {
   "cell_type": "code",
   "execution_count": 70,
   "id": "50efa134-c875-4915-8890-6d9d6109ce3b",
   "metadata": {},
   "outputs": [
    {
     "name": "stdout",
     "output_type": "stream",
     "text": [
      "159\n",
      "200\n"
     ]
    }
   ],
   "source": [
    "# Diámetro máximo.\n",
    "Max_Diametro_Jacaranda = Jacaranda['diametro'].max()\n",
    "Max_Diametro_Borrachos = Borrachos['diametro'].max()\n",
    "\n",
    "print(Max_Diametro_Jacaranda)\n",
    "print(Max_Diametro_Borrachos)"
   ]
  },
  {
   "cell_type": "code",
   "execution_count": 72,
   "id": "f2db2640-50fe-4601-aec3-b4de91e5f08b",
   "metadata": {},
   "outputs": [
    {
     "name": "stdout",
     "output_type": "stream",
     "text": [
      "1\n",
      "1\n"
     ]
    }
   ],
   "source": [
    "# Diámetro mínimo.\n",
    "Min_Diametro_Jacaranda = Jacaranda['diametro'].min()\n",
    "Min_Diametro_Borrachos = Borrachos['diametro'].min()\n",
    "\n",
    "print(Min_Diametro_Jacaranda)\n",
    "print(Min_Diametro_Borrachos)"
   ]
  },
  {
   "cell_type": "code",
   "execution_count": 73,
   "id": "d968f61f-b05e-4656-8c13-7f12472cdcc5",
   "metadata": {},
   "outputs": [
    {
     "name": "stdout",
     "output_type": "stream",
     "text": [
      "28.804301075268818\n",
      "47.106031746031746\n"
     ]
    }
   ],
   "source": [
    "# Promedio de diámetro.\n",
    "Prom_Diametro_Jacaranda = Jacaranda['diametro'].mean()\n",
    "Prom_Diametro_Borrachos = Borrachos['diametro'].mean()\n",
    "\n",
    "print(Prom_Diametro_Jacaranda)\n",
    "print(Prom_Diametro_Borrachos)"
   ]
  },
  {
   "cell_type": "markdown",
   "id": "94e4bd07-6e75-4961-8879-d06f4d4774f5",
   "metadata": {
    "jp-MarkdownHeadingCollapsed": true
   },
   "source": [
    "#### Ejercicio 11."
   ]
  },
  {
   "cell_type": "markdown",
   "id": "a5e71cb6-d797-4bd0-bde4-0ce5dc58005d",
   "metadata": {},
   "source": [
    "11. Definir una función cantidad_nativos (parque) que calcule la cantidad de\r\n",
    "árboles nativos."
   ]
  },
  {
   "cell_type": "code",
   "execution_count": 74,
   "id": "5260b043-e858-417f-8140-c65c9a26c237",
   "metadata": {},
   "outputs": [
    {
     "data": {
      "text/plain": [
       "782"
      ]
     },
     "execution_count": 74,
     "metadata": {},
     "output_type": "execute_result"
    }
   ],
   "source": [
    "# Función para calcular árboles de cada parque.\n",
    "\n",
    "def cantidad_arboles(parque):\n",
    "\n",
    "    df_parque = df[df['espacio_ve'] == parque]\n",
    "    Arboles = df_parque.count().max()\n",
    "\n",
    "    return Arboles\n",
    "\n",
    "cantidad_arboles('AVELLANEDA, NICOLÁS, Pres.')\n",
    "cantidad_arboles('SICILIA')"
   ]
  },
  {
   "cell_type": "code",
   "execution_count": 75,
   "id": "990462fd-f584-4cc4-a8db-6634302b60b1",
   "metadata": {},
   "outputs": [
    {
     "data": {
      "text/plain": [
       "17047"
      ]
     },
     "execution_count": 75,
     "metadata": {},
     "output_type": "execute_result"
    }
   ],
   "source": [
    "# Función que calcula la cantidad de árboles nativos.\n",
    "\n",
    "def cantidad_nativos(parque):\n",
    "\n",
    "    df_parque = df[df['espacio_ve'] == parque]\n",
    "\n",
    "    df_Nativos = df[df['origen'] == 'Nativo/Autóctono']\n",
    "\n",
    "    Nativos = df_Nativos.count().max()\n",
    "\n",
    "    return Nativos\n",
    "\n",
    "cantidad_nativos('AVELLANEDA, NICOLÁS, Pres.')"
   ]
  }
 ],
 "metadata": {
  "kernelspec": {
   "display_name": "Python 3 (ipykernel)",
   "language": "python",
   "name": "python3"
  },
  "language_info": {
   "codemirror_mode": {
    "name": "ipython",
    "version": 3
   },
   "file_extension": ".py",
   "mimetype": "text/x-python",
   "name": "python",
   "nbconvert_exporter": "python",
   "pygments_lexer": "ipython3",
   "version": "3.11.7"
  }
 },
 "nbformat": 4,
 "nbformat_minor": 5
}
