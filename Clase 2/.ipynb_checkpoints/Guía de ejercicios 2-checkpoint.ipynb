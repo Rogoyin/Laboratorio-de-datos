{
 "cells": [
  {
   "cell_type": "markdown",
   "id": "dd0d6e1d-19b9-4181-bccc-b1cf588e8394",
   "metadata": {},
   "source": [
    "# Laboratorio de datos"
   ]
  },
  {
   "cell_type": "markdown",
   "id": "5ac27e3c-c395-47ee-9b38-c61d056e4aa4",
   "metadata": {},
   "source": [
    "## Guía de ejercicios 2"
   ]
  },
  {
   "cell_type": "markdown",
   "id": "4043181d-9672-49c9-a95e-f65c34028358",
   "metadata": {
    "jp-MarkdownHeadingCollapsed": true
   },
   "source": [
    "### Paquetes"
   ]
  },
  {
   "cell_type": "code",
   "execution_count": 109,
   "id": "5e5b30ae-88ed-43f6-8f41-4d232b1bd0a5",
   "metadata": {},
   "outputs": [],
   "source": [
    "import pandas as pd\n",
    "import numpy as np\n",
    "import matplotlib.pyplot as plt\n",
    "import math"
   ]
  },
  {
   "cell_type": "markdown",
   "id": "7731d849-75a8-47b7-9701-64c49aec3fd5",
   "metadata": {
    "jp-MarkdownHeadingCollapsed": true
   },
   "source": [
    "### Dataset"
   ]
  },
  {
   "cell_type": "code",
   "execution_count": 110,
   "id": "43438b42-17eb-40a3-8dad-ed3d17581e37",
   "metadata": {},
   "outputs": [],
   "source": [
    "Espacios = 'arbolado-en-espacios-verdes.csv'\n",
    "\n",
    "df_Espacios = pd.read_csv(Espacios, index_col = 2)"
   ]
  },
  {
   "cell_type": "code",
   "execution_count": 111,
   "id": "b630058d-6c51-45b8-a469-9acd9f0cba0a",
   "metadata": {},
   "outputs": [
    {
     "name": "stderr",
     "output_type": "stream",
     "text": [
      "C:\\Users\\tomas\\AppData\\Local\\Temp\\ipykernel_13144\\2890767425.py:1: DtypeWarning: Columns (2,7,8) have mixed types. Specify dtype option on import or set low_memory=False.\n",
      "  df_Veredas = pd.read_csv('arbolado-publico-lineal-2017-2018.csv')\n"
     ]
    }
   ],
   "source": [
    "df_Veredas = pd.read_csv('arbolado-publico-lineal-2017-2018.csv')"
   ]
  },
  {
   "cell_type": "markdown",
   "id": "24aab309-5b1a-4740-ba06-cc34cc50c125",
   "metadata": {},
   "source": [
    "### Ejercicios"
   ]
  },
  {
   "cell_type": "markdown",
   "id": "a2840110-11fb-4c95-9cbb-148599f53526",
   "metadata": {
    "jp-MarkdownHeadingCollapsed": true
   },
   "source": [
    "#### Ejercicio 1."
   ]
  },
  {
   "cell_type": "markdown",
   "id": "15e08064-3fa0-43fc-90f6-379872faaf7e",
   "metadata": {},
   "source": [
    "1. Definir una función leer_parque(nombre_archivo, parque) que abra el archivo indicado y devuelva una lista de diccionarios con la información del parque especificado. La lista debe tener un diccionario por cada árbol del parque elegido. Dicho diccionario debe tener los datos correspondientes a un árbol (recordar que cada fila del csv corresponde a un árbol). Probar la función en el parque ‘GENERAL PAZ’ y debería dar una lista con 690 árboles. "
   ]
  },
  {
   "cell_type": "code",
   "execution_count": 112,
   "id": "0c91b2e4-ca6b-4a44-a31b-33be72ad48a6",
   "metadata": {},
   "outputs": [
    {
     "name": "stdout",
     "output_type": "stream",
     "text": [
      "{'Nombre': 'Eucalipto', 'Especie': 'Eucalyptus sp.', 'Género': 'Mirtáceas', 'Familia': 'Eucalyptus', 'Tipo de follaje': 'Árbol Latifoliado Perenne', 'Origen': 'Exótico', 'Coordenada X': 96161.310446, 'Coordenada Y': 106840.291945, 'Altura': 20, 'Diámetro': 31, 'Inclinación': 0}\n"
     ]
    }
   ],
   "source": [
    "def leer_parque(Archivo, Parque):\n",
    "    df = pd.read_csv(Archivo, index_col = 2)\n",
    "    Columna = 'espacio_ve'\n",
    "    Lista = []\n",
    "    \n",
    "    for i in range(1,len(df[Columna])):\n",
    "        \n",
    "        if df.iloc[i][Columna] == Parque:\n",
    "            \n",
    "            Arbol_Parque = {\n",
    "                'Nombre' : df.iloc[i]['nombre_com'],\n",
    "                'Especie' : df.iloc[i]['nombre_cie'],\n",
    "                'Género' : df.iloc[i]['nombre_fam'],\n",
    "                'Familia' : df.iloc[i]['nombre_gen'],\n",
    "                'Tipo de follaje' : df.iloc[i]['tipo_folla'],\n",
    "                'Origen' : df.iloc[i]['origen'],\n",
    "                'Coordenada X' : df.iloc[i]['coord_x'],\n",
    "                'Coordenada Y' : df.iloc[i]['coord_y'],\n",
    "                'Altura' : df.iloc[i]['altura_tot'],\n",
    "                'Diámetro' : df.iloc[i]['diametro'],\n",
    "                'Inclinación' : df.iloc[i]['inclinacio']\n",
    "            }\n",
    "            \n",
    "            Lista.append(Arbol_Parque)\n",
    "\n",
    "    return Lista\n",
    "\n",
    "Arboles_General_Paz = leer_parque(Espacios, 'GENERAL PAZ')\n",
    "\n",
    "print(Arboles_General_Paz[1])"
   ]
  },
  {
   "cell_type": "markdown",
   "id": "a3ca7889-ab48-4cf1-8314-5e58b93e1456",
   "metadata": {
    "jp-MarkdownHeadingCollapsed": true
   },
   "source": [
    "#### Ejercicio 2."
   ]
  },
  {
   "cell_type": "markdown",
   "id": "d4cbe7ee-78e7-471c-8f18-5d18af95aa45",
   "metadata": {},
   "source": [
    "2. Escribir una función especies(lista_arboles) que tome una lista de árboles como la generada en el ejercicio anterior y devuelva el conjunto de especies (la columna 'nombre_com' del archivo) que figuran en la lista. \r"
   ]
  },
  {
   "cell_type": "code",
   "execution_count": 113,
   "id": "da2e5e70-ba08-4f6e-9afc-6001287539c8",
   "metadata": {},
   "outputs": [
    {
     "data": {
      "text/plain": [
       "['Eucalipto',\n",
       " 'Cedro de San Juan',\n",
       " 'Chamaecyparis',\n",
       " 'Cedro',\n",
       " 'Ciprés',\n",
       " 'Fenix',\n",
       " 'Ciprés leylandi',\n",
       " 'Fresno americano',\n",
       " 'Álamo negro',\n",
       " 'Palo borracho rosado',\n",
       " 'Jacarandá',\n",
       " 'Plátano',\n",
       " 'Casuarina',\n",
       " 'Acacia blanca',\n",
       " 'Ombú',\n",
       " 'Caqui',\n",
       " 'Pindó',\n",
       " 'Morera blanca',\n",
       " 'Washingtonia',\n",
       " 'Cedro del Himalaya',\n",
       " 'Lapacho rosado',\n",
       " 'Pino carrasco (Pino de Jerusalén)',\n",
       " 'Falso Guayabo (Guayaba del Brasil)',\n",
       " 'Acacia negra',\n",
       " 'Olivo oloroso',\n",
       " 'Cedro del Atlas (Cedro plateado o Cedro atlántico)',\n",
       " 'Magnolia',\n",
       " 'Tipa blanca',\n",
       " 'Roble americano',\n",
       " 'Ginkgo',\n",
       " 'Tuya oriental',\n",
       " 'Olivo',\n",
       " 'Ceibo',\n",
       " 'Pino de las canarias',\n",
       " 'Bunya-bunya (Araucaria de Bidwill)',\n",
       " 'Washingtonia (Palmera washingtonia)',\n",
       " 'Árbol del cielo (Ailanto o Árbol de los dioses)',\n",
       " 'Pino',\n",
       " 'Palmito',\n",
       " 'Visco (Viscote, Arca)',\n",
       " 'Ciprés blanco',\n",
       " 'Ficus',\n",
       " 'Arce negundo',\n",
       " 'Corona de cristo',\n",
       " 'Níspero japonés',\n",
       " 'Sauce eléctrico',\n",
       " 'Paraíso',\n",
       " 'No Determinado',\n",
       " 'Tuja',\n",
       " 'Timbó (Oreja de negro)',\n",
       " 'Alcanforero',\n",
       " 'Cedro del Himalaya variedad aurea',\n",
       " 'Roble común',\n",
       " 'Palma de california',\n",
       " 'Palma Bangalow  (Palma Rey)',\n",
       " 'Criptomeria (Cedro del Japón)',\n",
       " 'Roble sedoso (Grevillea)',\n",
       " 'Ligustro',\n",
       " 'Ligustro disciplinado (Ligustro variegado)',\n",
       " 'Roble',\n",
       " 'Liquidambar',\n",
       " 'Libocedro (Calocedro)',\n",
       " 'Laurus',\n",
       " 'Limpiatubos',\n",
       " 'Morera negra',\n",
       " 'Fresno (Fresno común)',\n",
       " 'Álamo blanco piramidal',\n",
       " 'Fotinia',\n",
       " 'Tilo',\n",
       " 'Macrocarpa (Ciprés de Monterrey o Ciprés de Lambert)',\n",
       " 'Olmo europeo',\n",
       " 'Olmo',\n",
       " 'Ciprés calvo',\n",
       " 'No Determinable',\n",
       " 'Juniperus',\n",
       " 'Cedrela',\n",
       " 'Olea',\n",
       " 'Morera de papel (Moral de China)',\n",
       " 'Laurel de jardin (Laurel de flor)',\n",
       " 'Pino del Paraná (Pino de Misiones o Pino de Brasil)',\n",
       " 'Nogal europeo (Nogal común)']"
      ]
     },
     "execution_count": 113,
     "metadata": {},
     "output_type": "execute_result"
    }
   ],
   "source": [
    "def especies(lista_arboles):\n",
    "\n",
    "    Lista = lista_arboles\n",
    "    Especies = []\n",
    "\n",
    "    for Arbol in Lista:\n",
    "        if Arbol['Nombre'] in Especies:\n",
    "            None\n",
    "        else:\n",
    "            Especies.append(Arbol['Nombre'])\n",
    "\n",
    "    return Especies\n",
    "\n",
    "Especies_General_Paz = especies(Arboles_General_Paz)\n",
    "\n",
    "Especies_General_Paz"
   ]
  },
  {
   "cell_type": "markdown",
   "id": "9a37fdb4-dfbb-4e86-bb65-a8d7e2a26335",
   "metadata": {
    "jp-MarkdownHeadingCollapsed": true
   },
   "source": [
    "#### Ejercicio 3."
   ]
  },
  {
   "cell_type": "markdown",
   "id": "3c1f5e21-d295-4979-bc5f-f157140cfa76",
   "metadata": {},
   "source": [
    "3. Escribir una función contar_ejemplares(lista_arboles) que, dada una lista como la generada con leer_parque(...), devuelva un diccionario en el que las especies sean las claves y tengan como valores asociados la cantidad de ejemplares en esa especie en la lista dada. Debería verse que en el parque General Paz hay 20 Jacarandás, en el Parque Los Andes hay 3 Tilos y en Parque Centenario hay 1 Laurel. .\r"
   ]
  },
  {
   "cell_type": "code",
   "execution_count": 114,
   "id": "3c8e3498-3f37-492f-b1f5-670e3540ee8c",
   "metadata": {},
   "outputs": [
    {
     "data": {
      "text/plain": [
       "{'Eucalipto': 49,\n",
       " 'Cedro de San Juan': 1,\n",
       " 'Chamaecyparis': 1,\n",
       " 'Cedro': 6,\n",
       " 'Ciprés': 33,\n",
       " 'Fenix': 40,\n",
       " 'Ciprés leylandi': 1,\n",
       " 'Fresno americano': 19,\n",
       " 'Álamo negro': 3,\n",
       " 'Palo borracho rosado': 44,\n",
       " 'Jacarandá': 20,\n",
       " 'Plátano': 31,\n",
       " 'Casuarina': 97,\n",
       " 'Acacia blanca': 10,\n",
       " 'Ombú': 8,\n",
       " 'Caqui': 8,\n",
       " 'Pindó': 5,\n",
       " 'Morera blanca': 22,\n",
       " 'Washingtonia': 13,\n",
       " 'Cedro del Himalaya': 22,\n",
       " 'Lapacho rosado': 4,\n",
       " 'Pino carrasco (Pino de Jerusalén)': 11,\n",
       " 'Falso Guayabo (Guayaba del Brasil)': 4,\n",
       " 'Acacia negra': 4,\n",
       " 'Olivo oloroso': 1,\n",
       " 'Cedro del Atlas (Cedro plateado o Cedro atlántico)': 2,\n",
       " 'Magnolia': 9,\n",
       " 'Tipa blanca': 54,\n",
       " 'Roble americano': 1,\n",
       " 'Ginkgo': 6,\n",
       " 'Tuya oriental': 2,\n",
       " 'Olivo': 6,\n",
       " 'Ceibo': 5,\n",
       " 'Pino de las canarias': 6,\n",
       " 'Bunya-bunya (Araucaria de Bidwill)': 12,\n",
       " 'Washingtonia (Palmera washingtonia)': 12,\n",
       " 'Árbol del cielo (Ailanto o Árbol de los dioses)': 1,\n",
       " 'Pino': 7,\n",
       " 'Palmito': 1,\n",
       " 'Visco (Viscote, Arca)': 2,\n",
       " 'Ciprés blanco': 5,\n",
       " 'Ficus': 2,\n",
       " 'Arce negundo': 16,\n",
       " 'Corona de cristo': 1,\n",
       " 'Níspero japonés': 3,\n",
       " 'Sauce eléctrico': 1,\n",
       " 'Paraíso': 7,\n",
       " 'No Determinado': 1,\n",
       " 'Tuja': 3,\n",
       " 'Timbó (Oreja de negro)': 6,\n",
       " 'Alcanforero': 1,\n",
       " 'Cedro del Himalaya variedad aurea': 1,\n",
       " 'Roble común': 2,\n",
       " 'Palma de california': 6,\n",
       " 'Palma Bangalow  (Palma Rey)': 1,\n",
       " 'Criptomeria (Cedro del Japón)': 1,\n",
       " 'Roble sedoso (Grevillea)': 5,\n",
       " 'Ligustro': 6,\n",
       " 'Ligustro disciplinado (Ligustro variegado)': 3,\n",
       " 'Roble': 2,\n",
       " 'Liquidambar': 3,\n",
       " 'Libocedro (Calocedro)': 2,\n",
       " 'Laurus': 1,\n",
       " 'Limpiatubos': 2,\n",
       " 'Morera negra': 2,\n",
       " 'Fresno (Fresno común)': 4,\n",
       " 'Álamo blanco piramidal': 1,\n",
       " 'Fotinia': 1,\n",
       " 'Tilo': 1,\n",
       " 'Macrocarpa (Ciprés de Monterrey o Ciprés de Lambert)': 3,\n",
       " 'Olmo europeo': 3,\n",
       " 'Olmo': 1,\n",
       " 'Ciprés calvo': 1,\n",
       " 'No Determinable': 2,\n",
       " 'Juniperus': 1,\n",
       " 'Cedrela': 1,\n",
       " 'Olea': 1,\n",
       " 'Morera de papel (Moral de China)': 1,\n",
       " 'Laurel de jardin (Laurel de flor)': 1,\n",
       " 'Pino del Paraná (Pino de Misiones o Pino de Brasil)': 1,\n",
       " 'Nogal europeo (Nogal común)': 1}"
      ]
     },
     "execution_count": 114,
     "metadata": {},
     "output_type": "execute_result"
    }
   ],
   "source": [
    "def contar_ejemplares(Lista_Arboles):\n",
    "    Lista_Especies = especies(Lista_Arboles)\n",
    "    Diccionario = {}\n",
    "\n",
    "    for Especie in Lista_Especies:\n",
    "        Contador = 0\n",
    "        \n",
    "        for Arbol in Lista_Arboles:\n",
    "            if Arbol['Nombre'] == Especie:\n",
    "                Contador += 1\n",
    "            \n",
    "        Diccionario[Especie] = Contador\n",
    "\n",
    "    return Diccionario\n",
    "\n",
    "Ejemplares_General_Paz = contar_ejemplares(Arboles_General_Paz)\n",
    "\n",
    "Ejemplares_General_Paz"
   ]
  },
  {
   "cell_type": "markdown",
   "id": "782fa5e8-23cd-4232-9d54-7c2ee5f1292e",
   "metadata": {
    "jp-MarkdownHeadingCollapsed": true
   },
   "source": [
    "#### Ejercicio 4."
   ]
  },
  {
   "attachments": {
    "99c3b875-911b-47a8-88e2-27118132f796.png": {
     "image/png": "[encoded data removed]"
    }
   },
   "cell_type": "markdown",
   "id": "60386845-7ae4-46be-994d-1b2cfe4adfe2",
   "metadata": {},
   "source": [
    "4. Escribir una función obtener_alturas(lista_arboles, especie) que, dada una lista como la generada con leer_parque(...) y una especie de árbol (un valor de la columna 'nombre_com' del archivo), devuelva una lista con las alturas (columna 'altura_tot') de los ejemplares de esa especie en la lista. Observación: Conviene devolver las alturas como números (de punto flotante) y no como cadenas de caracteres. Sugerimos hacer esto modificando leer_parque(...) o modificando el tipo del valor antes de utilizarlo. Usar la función para calcular la altura promedio y altura máxima de los 'Jacarandá' en los tres parques mencionados. Debería obtenerse esto:\n",
    "\n",
    "![image.png](attachment:99c3b875-911b-47a8-88e2-27118132f796.png)"
   ]
  },
  {
   "cell_type": "code",
   "execution_count": 115,
   "id": "b31ebc70-def1-4def-81a4-0d2fb5e43522",
   "metadata": {},
   "outputs": [
    {
     "data": {
      "text/html": [
       "<div>\n",
       "<style scoped>\n",
       "    .dataframe tbody tr th:only-of-type {\n",
       "        vertical-align: middle;\n",
       "    }\n",
       "\n",
       "    .dataframe tbody tr th {\n",
       "        vertical-align: top;\n",
       "    }\n",
       "\n",
       "    .dataframe thead th {\n",
       "        text-align: right;\n",
       "    }\n",
       "</style>\n",
       "<table border=\"1\" class=\"dataframe\">\n",
       "  <thead>\n",
       "    <tr style=\"text-align: right;\">\n",
       "      <th></th>\n",
       "      <th>Valor</th>\n",
       "    </tr>\n",
       "  </thead>\n",
       "  <tbody>\n",
       "    <tr>\n",
       "      <th>Maxima</th>\n",
       "      <td>16.0</td>\n",
       "    </tr>\n",
       "    <tr>\n",
       "      <th>Promedio</th>\n",
       "      <td>10.2</td>\n",
       "    </tr>\n",
       "  </tbody>\n",
       "</table>\n",
       "</div>"
      ],
      "text/plain": [
       "          Valor\n",
       "Maxima     16.0\n",
       "Promedio   10.2"
      ]
     },
     "execution_count": 115,
     "metadata": {},
     "output_type": "execute_result"
    }
   ],
   "source": [
    "def obtener_alturas(Lista_Arboles, Especie):\n",
    "\n",
    "    Columna_Alturas = 'altura_tot'\n",
    "    Lista_Alturas = []\n",
    "\n",
    "    for Arbol in Lista_Arboles:\n",
    "        if Arbol['Nombre'] == Especie:\n",
    "            Altura = Arbol['Altura']\n",
    "            Lista_Alturas.append(Altura)\n",
    "\n",
    "    Promedio = np.array(Lista_Alturas).mean()\n",
    "    Altura_Maxima = np.array(Lista_Alturas).max()\n",
    "\n",
    "    # Vacío.\n",
    "    Indices = ['Maxima', 'Promedio']\n",
    "    Columnas = ['Valor']\n",
    "    df = pd.DataFrame(index = Indices, columns = Columnas)\n",
    "\n",
    "    # Agregar una nueva columna con datos.\n",
    "    df['Valor'] = [Altura_Maxima, Promedio]\n",
    "    \n",
    "    return df\n",
    "    \n",
    "Alturas_General_Paz = obtener_alturas(Arboles_General_Paz, 'Jacarandá')\n",
    "\n",
    "Alturas_General_Paz"
   ]
  },
  {
   "cell_type": "markdown",
   "id": "c5c28028-50ca-4d3f-8780-dba9bffc7671",
   "metadata": {
    "jp-MarkdownHeadingCollapsed": true
   },
   "source": [
    "#### Ejercicio 5."
   ]
  },
  {
   "cell_type": "markdown",
   "id": "e8886640-3d48-4256-8caa-3d8d7362a596",
   "metadata": {},
   "source": [
    "5. Escribir una función obtener_inclinaciones(lista_arboles, especie) que, dada una lista como la generada con leer_parque(...) y una especie de árbol, devuelva una lista con las inclinaciones (columna 'inclinacio') de los ejemplares de esa especie.'}."
   ]
  },
  {
   "cell_type": "code",
   "execution_count": 116,
   "id": "12273235-7196-4f76-aa64-341325082d2e",
   "metadata": {},
   "outputs": [],
   "source": [
    "def obtener_inclinaciones(Lista_Arboles, Especie):\n",
    "    Columna_Inclinaciones = 'inclinacio'\n",
    "    Lista_Inclinaciones = []\n",
    "\n",
    "    for Arbol in Lista_Arboles:\n",
    "        if Arbol['Nombre'] == Especie:\n",
    "            Inclinacion = Arbol['Inclinación']\n",
    "            Lista_Inclinaciones.append(Inclinacion)\n",
    "            \n",
    "    return Lista_Inclinaciones\n",
    "\n",
    "Inclinaciones_General_Paz = obtener_inclinaciones(Arboles_General_Paz, 'Eucalipto')"
   ]
  },
  {
   "cell_type": "markdown",
   "id": "80243739-7fd6-4fc2-ba13-fbb8ae1a1319",
   "metadata": {
    "jp-MarkdownHeadingCollapsed": true
   },
   "source": [
    "#### Ejercicio 6."
   ]
  },
  {
   "attachments": {},
   "cell_type": "markdown",
   "id": "bbe549b9-5088-43fc-b13f-4520e03aca31",
   "metadata": {},
   "source": [
    "6. Combinando la función especies() con obtener_inclinaciones() escribir una función especimen_mas_inclinado(lista_arboles) que, dada una lista de árboles devuelva la especie que tiene el ejemplar más inclinado y su inclinación. Correrlo para los tres parques mencionados anteriormente. Debería obtenerse, por ejemplo, que en el Parque Centenario hay un Falso Guayabo inclinado 80 grados."
   ]
  },
  {
   "cell_type": "code",
   "execution_count": 117,
   "id": "1f2a4dac-c502-4e89-8b4f-91a98b6b9532",
   "metadata": {},
   "outputs": [
    {
     "data": {
      "text/plain": [
       "(80, 'Falso Guayabo (Guayaba del Brasil)')"
      ]
     },
     "execution_count": 117,
     "metadata": {},
     "output_type": "execute_result"
    }
   ],
   "source": [
    "def especimen_mas_inclinado(Lista_Arboles):\n",
    "    Lista_Especies = especies(Lista_Arboles)\n",
    "    Maxima_Inclinacion = 0\n",
    "    Especie_Mas_Inclinada = ''\n",
    "    \n",
    "    for i in range (0, len(Lista_Especies)):\n",
    "        Inclinaciones = obtener_inclinaciones(Lista_Arboles, Lista_Especies[i])\n",
    "        Maxima_Inclinacion_Arbol = np.array(Inclinaciones).max()\n",
    "\n",
    "        if Maxima_Inclinacion_Arbol >= Maxima_Inclinacion:\n",
    "            Maxima_Inclinacion = Maxima_Inclinacion_Arbol\n",
    "            Especie_Mas_Inclinada = Lista_Especies[i]\n",
    "\n",
    "    return Maxima_Inclinacion, Especie_Mas_Inclinada\n",
    "\n",
    "\n",
    "especimen_mas_inclinado(leer_parque(Espacios, 'CENTENARIO'))    "
   ]
  },
  {
   "cell_type": "markdown",
   "id": "b3dc6b82-d9c0-4110-a4c1-df5115867af1",
   "metadata": {
    "jp-MarkdownHeadingCollapsed": true
   },
   "source": [
    "#### Ejercicio 7."
   ]
  },
  {
   "cell_type": "markdown",
   "id": "2a11db2e-df49-426c-aea3-c666c402a3d8",
   "metadata": {},
   "source": [
    "7. Volver a combinar las funciones anteriores para escribir la función especie_promedio_mas_inclinada(lista_arboles) que, dada una lista de árboles devuelva la especie que en promedio tiene la mayor inclinación y el promedio calculado. Resultados. Debería obtenerse, por ejemplo, que los Álamos Plateados del Parque Los Andes tiene un promedio de inclinación de 25 grados. "
   ]
  },
  {
   "cell_type": "code",
   "execution_count": 118,
   "id": "70e9fa24-59f9-4688-a94b-e05e5d959b19",
   "metadata": {},
   "outputs": [
    {
     "data": {
      "text/plain": [
       "(25.0, 'Álamo plateado')"
      ]
     },
     "execution_count": 118,
     "metadata": {},
     "output_type": "execute_result"
    }
   ],
   "source": [
    "def especie_promedio_mas_inclinada(Lista_Arboles):\n",
    "    Lista_Especies = especies(Lista_Arboles)\n",
    "    Maximo_Promedio_Inclinacion = 0\n",
    "    Especie_En_Promedio_Mas_Inclinada = ''\n",
    "    \n",
    "    for i in range (0, len(Lista_Especies)):\n",
    "        Inclinaciones = obtener_inclinaciones(Lista_Arboles, Lista_Especies[i])\n",
    "        Promedio_Inclinaciones_Arbol = np.array(Inclinaciones).mean()\n",
    "\n",
    "        if Promedio_Inclinaciones_Arbol >= Maximo_Promedio_Inclinacion:\n",
    "            Maximo_Promedio_Inclinacion = Promedio_Inclinaciones_Arbol\n",
    "            Especie_En_Promedio_Mas_Inclinada = Lista_Especies[i]\n",
    "\n",
    "    return Maximo_Promedio_Inclinacion, Especie_En_Promedio_Mas_Inclinada\n",
    "\n",
    "especie_promedio_mas_inclinada(leer_parque(Espacios, 'ANDES, LOS'))  "
   ]
  },
  {
   "cell_type": "markdown",
   "id": "9daafcb3-9960-4e92-9800-ece6001ecb30",
   "metadata": {
    "jp-MarkdownHeadingCollapsed": true
   },
   "source": [
    "#### Ejercicio 8."
   ]
  },
  {
   "cell_type": "markdown",
   "id": "dde4748d-12fa-4239-874d-161672e98751",
   "metadata": {},
   "source": [
    "Vamos a trabajar ahora también con el archivo de árboles en veredas. Queremos estudiar si hay diferencias entre los ejemplares de una misma especie según si crecen en un un parque o en la vereda. Para eso tendremos que juntar datos de dos bases de datos diferentes. Explorar el dataset nuevo de árboles en veredas. Armar un DataFrame data_arboles_veredas que tenga solamente las siguiente columnas: 'nombre_cientifico', 'ancho_acera', 'diametro_altura_pecho', 'altura_arbol' Sugerimos trabajar al menos con las siguientes especies seleccionadas: especies_seleccionadas = ['Tilia x moltkei', 'Jacaranda mimosifolia', 'Tipuana tipu'] \r\n",
    "Advertencia: El GCBA usa distintos nombres para especie, altura y diámetro según el dataset, por ejemplo 'altura_tot' en uno y 'altura_arbol' en otro. Los nombres científicos varían de un dataset al otro. Por ejemplo 'Tipuana Tipu' se transforma en 'Tipuana tipu'. Proponemos los siguientes pasos para comparar los diámetros a la altura del pecho de las tipas en ambos tipos de entornos. "
   ]
  },
  {
   "cell_type": "markdown",
   "id": "7e1a7289-2d4d-4d13-b215-f076095f0a38",
   "metadata": {},
   "source": [
    "8. Para cada dataset, armar otro seleccionando solamente las filas correspondientes a las tipas (llamalos df_tipas_parques y df_tipas_veredas, respectivamente) y las columnas correspondientes al diámetro a la altura del pecho y alturas. Usar como copias (usando .copy()) para poder trabajar en estos nuevos dataframes sin modificar los dataframes grandes originales. Renombrar las columnas necesarias para que se llamen igual en ambos dataframes."
   ]
  },
  {
   "cell_type": "code",
   "execution_count": 119,
   "id": "3e1f23e4-c986-4c77-a527-5789afb43e4e",
   "metadata": {},
   "outputs": [
    {
     "data": {
      "text/html": [
       "<div>\n",
       "<style scoped>\n",
       "    .dataframe tbody tr th:only-of-type {\n",
       "        vertical-align: middle;\n",
       "    }\n",
       "\n",
       "    .dataframe tbody tr th {\n",
       "        vertical-align: top;\n",
       "    }\n",
       "\n",
       "    .dataframe thead th {\n",
       "        text-align: right;\n",
       "    }\n",
       "</style>\n",
       "<table border=\"1\" class=\"dataframe\">\n",
       "  <thead>\n",
       "    <tr style=\"text-align: right;\">\n",
       "      <th></th>\n",
       "      <th>Nombre</th>\n",
       "      <th>Diametro</th>\n",
       "      <th>Altura</th>\n",
       "    </tr>\n",
       "    <tr>\n",
       "      <th>id_arbol</th>\n",
       "      <th></th>\n",
       "      <th></th>\n",
       "      <th></th>\n",
       "    </tr>\n",
       "  </thead>\n",
       "  <tbody>\n",
       "    <tr>\n",
       "      <th>2190</th>\n",
       "      <td>Tipuana Tipu</td>\n",
       "      <td>40</td>\n",
       "      <td>25</td>\n",
       "    </tr>\n",
       "    <tr>\n",
       "      <th>2191</th>\n",
       "      <td>Tipuana Tipu</td>\n",
       "      <td>40</td>\n",
       "      <td>25</td>\n",
       "    </tr>\n",
       "    <tr>\n",
       "      <th>2192</th>\n",
       "      <td>Tipuana Tipu</td>\n",
       "      <td>40</td>\n",
       "      <td>25</td>\n",
       "    </tr>\n",
       "    <tr>\n",
       "      <th>2193</th>\n",
       "      <td>Tipuana Tipu</td>\n",
       "      <td>40</td>\n",
       "      <td>25</td>\n",
       "    </tr>\n",
       "    <tr>\n",
       "      <th>2194</th>\n",
       "      <td>Tipuana Tipu</td>\n",
       "      <td>40</td>\n",
       "      <td>25</td>\n",
       "    </tr>\n",
       "    <tr>\n",
       "      <th>...</th>\n",
       "      <td>...</td>\n",
       "      <td>...</td>\n",
       "      <td>...</td>\n",
       "    </tr>\n",
       "    <tr>\n",
       "      <th>51655</th>\n",
       "      <td>Tipuana Tipu</td>\n",
       "      <td>87</td>\n",
       "      <td>20</td>\n",
       "    </tr>\n",
       "    <tr>\n",
       "      <th>51656</th>\n",
       "      <td>Tipuana Tipu</td>\n",
       "      <td>75</td>\n",
       "      <td>20</td>\n",
       "    </tr>\n",
       "    <tr>\n",
       "      <th>51657</th>\n",
       "      <td>Tipuana Tipu</td>\n",
       "      <td>53</td>\n",
       "      <td>20</td>\n",
       "    </tr>\n",
       "    <tr>\n",
       "      <th>51676</th>\n",
       "      <td>Tipuana Tipu</td>\n",
       "      <td>40</td>\n",
       "      <td>19</td>\n",
       "    </tr>\n",
       "    <tr>\n",
       "      <th>51692</th>\n",
       "      <td>Tipuana Tipu</td>\n",
       "      <td>48</td>\n",
       "      <td>22</td>\n",
       "    </tr>\n",
       "  </tbody>\n",
       "</table>\n",
       "<p>4031 rows × 3 columns</p>\n",
       "</div>"
      ],
      "text/plain": [
       "                Nombre  Diametro  Altura\n",
       "id_arbol                                \n",
       "2190      Tipuana Tipu        40      25\n",
       "2191      Tipuana Tipu        40      25\n",
       "2192      Tipuana Tipu        40      25\n",
       "2193      Tipuana Tipu        40      25\n",
       "2194      Tipuana Tipu        40      25\n",
       "...                ...       ...     ...\n",
       "51655     Tipuana Tipu        87      20\n",
       "51656     Tipuana Tipu        75      20\n",
       "51657     Tipuana Tipu        53      20\n",
       "51676     Tipuana Tipu        40      19\n",
       "51692     Tipuana Tipu        48      22\n",
       "\n",
       "[4031 rows x 3 columns]"
      ]
     },
     "execution_count": 119,
     "metadata": {},
     "output_type": "execute_result"
    }
   ],
   "source": [
    "# Dataframe de parques.\n",
    "df_tipas_parques = df_Espacios.copy()\n",
    "\n",
    "# Filtrar columnas.\n",
    "Columnas = ['nombre_cie', 'diametro', 'altura_tot']\n",
    "df_tipas_parques = df_tipas_parques[Columnas]\n",
    "\n",
    "# Filtrar filas.\n",
    "Especies = ['Tipuana Tipu']\n",
    "df_tipas_parques = df_tipas_parques[df_tipas_parques['nombre_cie'].isin(Especies)]\n",
    "\n",
    "# Renombrar columnas usando rename()\n",
    "df_tipas_parques = df_tipas_parques.rename(columns={'nombre_cie': 'Nombre', 'diametro': 'Diametro', 'altura_tot': 'Altura'})\n",
    "\n",
    "df_tipas_parques"
   ]
  },
  {
   "cell_type": "code",
   "execution_count": 120,
   "id": "e2117d7d-df91-4aad-85d5-e60aaf501622",
   "metadata": {},
   "outputs": [
    {
     "data": {
      "text/html": [
       "<div>\n",
       "<style scoped>\n",
       "    .dataframe tbody tr th:only-of-type {\n",
       "        vertical-align: middle;\n",
       "    }\n",
       "\n",
       "    .dataframe tbody tr th {\n",
       "        vertical-align: top;\n",
       "    }\n",
       "\n",
       "    .dataframe thead th {\n",
       "        text-align: right;\n",
       "    }\n",
       "</style>\n",
       "<table border=\"1\" class=\"dataframe\">\n",
       "  <thead>\n",
       "    <tr style=\"text-align: right;\">\n",
       "      <th></th>\n",
       "      <th>Nombre</th>\n",
       "      <th>Diametro</th>\n",
       "      <th>Altura</th>\n",
       "    </tr>\n",
       "  </thead>\n",
       "  <tbody>\n",
       "    <tr>\n",
       "      <th>0</th>\n",
       "      <td>Tipuana tipu</td>\n",
       "      <td>88.0</td>\n",
       "      <td>34.0</td>\n",
       "    </tr>\n",
       "    <tr>\n",
       "      <th>434</th>\n",
       "      <td>Tipuana tipu</td>\n",
       "      <td>108.0</td>\n",
       "      <td>17.0</td>\n",
       "    </tr>\n",
       "    <tr>\n",
       "      <th>435</th>\n",
       "      <td>Tipuana tipu</td>\n",
       "      <td>80.0</td>\n",
       "      <td>16.0</td>\n",
       "    </tr>\n",
       "    <tr>\n",
       "      <th>437</th>\n",
       "      <td>Tipuana tipu</td>\n",
       "      <td>107.0</td>\n",
       "      <td>25.0</td>\n",
       "    </tr>\n",
       "    <tr>\n",
       "      <th>438</th>\n",
       "      <td>Tipuana tipu</td>\n",
       "      <td>80.0</td>\n",
       "      <td>22.0</td>\n",
       "    </tr>\n",
       "    <tr>\n",
       "      <th>...</th>\n",
       "      <td>...</td>\n",
       "      <td>...</td>\n",
       "      <td>...</td>\n",
       "    </tr>\n",
       "    <tr>\n",
       "      <th>370059</th>\n",
       "      <td>Tipuana tipu</td>\n",
       "      <td>13.0</td>\n",
       "      <td>5.0</td>\n",
       "    </tr>\n",
       "    <tr>\n",
       "      <th>370169</th>\n",
       "      <td>Tipuana tipu</td>\n",
       "      <td>62.0</td>\n",
       "      <td>16.0</td>\n",
       "    </tr>\n",
       "    <tr>\n",
       "      <th>370170</th>\n",
       "      <td>Tipuana tipu</td>\n",
       "      <td>76.0</td>\n",
       "      <td>16.0</td>\n",
       "    </tr>\n",
       "    <tr>\n",
       "      <th>370171</th>\n",
       "      <td>Tipuana tipu</td>\n",
       "      <td>57.0</td>\n",
       "      <td>16.0</td>\n",
       "    </tr>\n",
       "    <tr>\n",
       "      <th>370172</th>\n",
       "      <td>Tipuana tipu</td>\n",
       "      <td>71.0</td>\n",
       "      <td>18.0</td>\n",
       "    </tr>\n",
       "  </tbody>\n",
       "</table>\n",
       "<p>9330 rows × 3 columns</p>\n",
       "</div>"
      ],
      "text/plain": [
       "              Nombre  Diametro  Altura\n",
       "0       Tipuana tipu      88.0    34.0\n",
       "434     Tipuana tipu     108.0    17.0\n",
       "435     Tipuana tipu      80.0    16.0\n",
       "437     Tipuana tipu     107.0    25.0\n",
       "438     Tipuana tipu      80.0    22.0\n",
       "...              ...       ...     ...\n",
       "370059  Tipuana tipu      13.0     5.0\n",
       "370169  Tipuana tipu      62.0    16.0\n",
       "370170  Tipuana tipu      76.0    16.0\n",
       "370171  Tipuana tipu      57.0    16.0\n",
       "370172  Tipuana tipu      71.0    18.0\n",
       "\n",
       "[9330 rows x 3 columns]"
      ]
     },
     "execution_count": 120,
     "metadata": {},
     "output_type": "execute_result"
    }
   ],
   "source": [
    "# Dataframe de veredas.\n",
    "df_tipas_veredas = df_Veredas.copy()\n",
    "\n",
    "# Filtrar columnas.\n",
    "Columnas = ['nombre_cientifico', 'diametro_altura_pecho', 'altura_arbol']\n",
    "df_tipas_veredas = df_tipas_veredas[Columnas]\n",
    "\n",
    "# Filtrar filas.\n",
    "Especies = ['Tipuana tipu']\n",
    "df_tipas_veredas = df_tipas_veredas[df_tipas_veredas['nombre_cientifico'].isin(Especies)]\n",
    "\n",
    "# Renombrar columnas usando rename()\n",
    "df_tipas_veredas = df_tipas_veredas.rename(columns={'nombre_cientifico': 'Nombre', 'diametro_altura_pecho': 'Diametro', 'altura_arbol': 'Altura'})\n",
    "\n",
    "df_tipas_veredas"
   ]
  },
  {
   "cell_type": "markdown",
   "id": "917d8c69-e7ef-4706-81f8-09cc619eb4d2",
   "metadata": {
    "jp-MarkdownHeadingCollapsed": true
   },
   "source": [
    "#### Ejercicio 9."
   ]
  },
  {
   "cell_type": "markdown",
   "id": "a44cbba2-dd50-4ff8-aff1-306c4ac0f61e",
   "metadata": {},
   "source": [
    "9. Agregar a cada dataframe (df_tipas_parques y df_tipas_veredas) una columna llamada 'ambiente' que en un caso valga siempre 'parque' y en el otro caso 'vereda'."
   ]
  },
  {
   "cell_type": "code",
   "execution_count": 121,
   "id": "7423a877-3bbb-4100-a63d-d1025f4c4f89",
   "metadata": {},
   "outputs": [],
   "source": [
    "df_tipas_parques['Ambiente'] = 'Parque'\n",
    "df_tipas_veredas['Ambiente'] = 'Vereda'"
   ]
  },
  {
   "cell_type": "markdown",
   "id": "d4f813b3-d335-43c0-be7b-8612fd30a04c",
   "metadata": {
    "jp-MarkdownHeadingCollapsed": true
   },
   "source": [
    "#### Ejercicio 10."
   ]
  },
  {
   "cell_type": "markdown",
   "id": "b93b0a78-d0bc-40a7-b7a7-7f6c2af7a553",
   "metadata": {},
   "source": [
    "10. Concatenar los dataframes."
   ]
  },
  {
   "cell_type": "code",
   "execution_count": 123,
   "id": "bfd7ef23-bdf2-471a-acb0-e1de80ad3038",
   "metadata": {},
   "outputs": [
    {
     "name": "stdout",
     "output_type": "stream",
     "text": [
      "              Nombre  Diametro  Altura Ambiente\n",
      "2190    Tipuana Tipu      40.0    25.0   Parque\n",
      "2191    Tipuana Tipu      40.0    25.0   Parque\n",
      "2192    Tipuana Tipu      40.0    25.0   Parque\n",
      "2193    Tipuana Tipu      40.0    25.0   Parque\n",
      "2194    Tipuana Tipu      40.0    25.0   Parque\n",
      "...              ...       ...     ...      ...\n",
      "370059  Tipuana tipu      13.0     5.0   Vereda\n",
      "370169  Tipuana tipu      62.0    16.0   Vereda\n",
      "370170  Tipuana tipu      76.0    16.0   Vereda\n",
      "370171  Tipuana tipu      57.0    16.0   Vereda\n",
      "370172  Tipuana tipu      71.0    18.0   Vereda\n",
      "\n",
      "[13361 rows x 4 columns]\n"
     ]
    }
   ],
   "source": [
    "# Concatenar.\n",
    "df = pd.concat([df_tipas_parques, df_tipas_veredas], axis=0)\n",
    "\n",
    "print(df)"
   ]
  },
  {
   "cell_type": "markdown",
   "id": "94e4bd07-6e75-4961-8879-d06f4d4774f5",
   "metadata": {
    "jp-MarkdownHeadingCollapsed": true
   },
   "source": [
    "#### Ejercicio 11."
   ]
  },
  {
   "cell_type": "markdown",
   "id": "a5e71cb6-d797-4bd0-bde4-0ce5dc58005d",
   "metadata": {},
   "source": [
    "11. Explorar y analizar sobre la cuestión planteada: ¿Hay diferencias entre los ejemplares de una misma especie según si crecen en un un parque o en la vereda?"
   ]
  },
  {
   "cell_type": "code",
   "execution_count": 132,
   "id": "5260b043-e858-417f-8140-c65c9a26c237",
   "metadata": {},
   "outputs": [],
   "source": [
    "df_tipas_veredas['Diametro'] = df_tipas_veredas['Diametro'].fillna(0)\n",
    "df_tipas_veredas['Altura'] = df_tipas_veredas['Altura'].fillna(0)"
   ]
  },
  {
   "cell_type": "code",
   "execution_count": 133,
   "id": "4c026426-6ba6-4db5-85dc-d5a3e07a66ae",
   "metadata": {},
   "outputs": [
    {
     "name": "stdout",
     "output_type": "stream",
     "text": [
      "El promedio del diametro en el los parques es de: 57.99429421979658\n",
      "El promedio del diametro en las veredas es de: 54.078885316184355\n"
     ]
    }
   ],
   "source": [
    "Promedio_Diametro_Parque = np.array(df_tipas_parques['Diametro']).mean()\n",
    "Promedio_Diametro_Vereda = np.array(df_tipas_veredas['Diametro']).mean()\n",
    "\n",
    "print(f'El promedio del diametro en el los parques es de: {Promedio_Diametro_Parque}')\n",
    "print(f'El promedio del diametro en las veredas es de: {Promedio_Diametro_Vereda}')"
   ]
  },
  {
   "cell_type": "code",
   "execution_count": 134,
   "id": "74d976e5-2a63-4417-8960-925535cc33fa",
   "metadata": {},
   "outputs": [
    {
     "name": "stdout",
     "output_type": "stream",
     "text": [
      "El promedio de la altura en el los parques es de: 19.100223269660134\n",
      "El promedio de la altura en las veredas es de: 14.97749196141479\n"
     ]
    }
   ],
   "source": [
    "Promedio_Altura_Parque = np.array(df_tipas_parques['Altura']).mean()\n",
    "Promedio_Altura_Vereda = np.array(df_tipas_veredas['Altura']).mean()\n",
    "\n",
    "print(f'El promedio de la altura en el los parques es de: {Promedio_Altura_Parque}')\n",
    "print(f'El promedio de la altura en las veredas es de: {Promedio_Altura_Vereda}')"
   ]
  },
  {
   "cell_type": "code",
   "execution_count": null,
   "id": "dbc3e930-9a31-45a8-8aea-292b4b08eabc",
   "metadata": {},
   "outputs": [],
   "source": []
  }
 ],
 "metadata": {
  "kernelspec": {
   "display_name": "Python 3 (ipykernel)",
   "language": "python",
   "name": "python3"
  },
  "language_info": {
   "codemirror_mode": {
    "name": "ipython",
    "version": 3
   },
   "file_extension": ".py",
   "mimetype": "text/x-python",
   "name": "python",
   "nbconvert_exporter": "python",
   "pygments_lexer": "ipython3",
   "version": "3.11.7"
  }
 },
 "nbformat": 4,
 "nbformat_minor": 5
}
