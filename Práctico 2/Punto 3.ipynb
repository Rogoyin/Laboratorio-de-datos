{
 "cells": [
  {
   "cell_type": "markdown",
   "metadata": {},
   "source": [
    "__(Clasificación multiclase) Dada una imagen se desea responder la siguiente pregunta: ¿A cuál de los 10 dígitos corresponde la imagen?__"
   ]
  },
  {
   "cell_type": "code",
   "execution_count": 2,
   "metadata": {},
   "outputs": [],
   "source": [
    "import pandas as pd\n",
    "from sklearn.model_selection import train_test_split"
   ]
  },
  {
   "cell_type": "code",
   "execution_count": null,
   "metadata": {},
   "outputs": [],
   "source": [
    "# Carga de datos.\n",
    "Data = 'TMNIST_Data.csv'\n",
    "df = pd.read_csv(Data)"
   ]
  },
  {
   "cell_type": "code",
   "execution_count": null,
   "metadata": {},
   "outputs": [],
   "source": [
    "# Variables explicativas (X) y variable a explicar (Y).\n",
    "x = df.iloc[:, 2:].values  # 784 píxeles de cada imagen.\n",
    "y = df.iloc[:, 1].values   # Dígitos."
   ]
  },
  {
   "cell_type": "markdown",
   "metadata": {},
   "source": [
    "__a. Separar el conjunto de datos en desarrollo (dev) y validación (held-out).__"
   ]
  },
  {
   "cell_type": "code",
   "execution_count": null,
   "metadata": {},
   "outputs": [],
   "source": [
    "# Separar los datos en:\n",
    "# - Conjunto de entrenamiento (x_dev e y_dev).\n",
    "# - Conjunto de validación o held-out (x_held_out y y_held_out).\n",
    "x_dev, x_held_out, y_dev, y_held_out = train_test_split(x, y, test_size=0.2, random_state=42)"
   ]
  },
  {
   "cell_type": "markdown",
   "metadata": {},
   "source": [
    "__b. Ajustar un modelo de árbol de decisión. Probar con distintas profundidades (entre 1 y 10).__"
   ]
  },
  {
   "cell_type": "code",
   "execution_count": 7,
   "metadata": {},
   "outputs": [],
   "source": [
    "from sklearn.tree import DecisionTreeClassifier\n",
    "from sklearn.metrics import accuracy_score"
   ]
  },
  {
   "cell_type": "code",
   "execution_count": null,
   "metadata": {},
   "outputs": [],
   "source": [
    "# Función para ejecutar modelos de árboles de decisión en distintas profundidades.\n",
    "def train_decision_tree(x_train: pd.DataFrame, y_train: pd.Series, max_depth: int) -> DecisionTreeClassifier:\n",
    "    \n",
    "    \"\"\"\n",
    "    Train a decision tree classifier with a given maximum depth.\n",
    "    \n",
    "    Parameters:\n",
    "        x_train (pd.DataFrame): Training features.\n",
    "        y_train (pd.Series): Training labels.\n",
    "        max_depth (int): The maximum depth of the decision tree.\n",
    "    \n",
    "    Returns:\n",
    "        DecisionTreeClassifier: The trained model.\n",
    "\n",
    "    \"\"\"\n",
    "    \n",
    "    model = DecisionTreeClassifier(max_depth=max_depth, random_state=42)\n",
    "    model.fit(x_train, y_train)\n",
    "    return model"
   ]
  },
  {
   "cell_type": "code",
   "execution_count": null,
   "metadata": {},
   "outputs": [],
   "source": [
    "# Entrenar modelos con diferentes profundidades.\n",
    "depths = range(1, 11)  # Profundidades de 1 a 10.\n",
    "accuracies = []"
   ]
  },
  {
   "cell_type": "code",
   "execution_count": null,
   "metadata": {},
   "outputs": [
    {
     "name": "stdout",
     "output_type": "stream",
     "text": [
      "Depth: 1, Accuracy: 0.1954\n",
      "Depth: 2, Accuracy: 0.3659\n",
      "Depth: 3, Accuracy: 0.5869\n",
      "Depth: 4, Accuracy: 0.7980\n",
      "Depth: 5, Accuracy: 0.8413\n",
      "Depth: 6, Accuracy: 0.8787\n",
      "Depth: 7, Accuracy: 0.9132\n",
      "Depth: 8, Accuracy: 0.9401\n",
      "Depth: 9, Accuracy: 0.9599\n",
      "Depth: 10, Accuracy: 0.9732\n"
     ]
    }
   ],
   "source": [
    "for depth in depths:\n",
    "    model = train_decision_tree(x_dev, y_dev, depth)\n",
    "    y_pred = model.predict(x_dev)\n",
    "    accuracy = accuracy_score(y_dev, y_pred)\n",
    "    accuracies.append(accuracy)\n",
    "    print(f\"Depth: {depth}, Accuracy: {accuracy:.4f}\")"
   ]
  },
  {
   "cell_type": "code",
   "execution_count": 11,
   "metadata": {},
   "outputs": [
    {
     "name": "stdout",
     "output_type": "stream",
     "text": [
      "Best depth: 10 with accuracy: 0.9732\n"
     ]
    }
   ],
   "source": [
    "# Encontrar la mejor profundidad\n",
    "best_depth = depths[accuracies.index(max(accuracies))]\n",
    "print(f\"Best depth: {best_depth} with accuracy: {max(accuracies):.4f}\")"
   ]
  },
  {
   "cell_type": "markdown",
   "metadata": {},
   "source": [
    "__c. Realizar un experimento para comparar y seleccionar distintos árboles de decisión, con distintos hiperparámetos. Nuevamente, limitarse a usar profundidades entre 1 y 10.\n",
    "Para esto, utilizar validación cruzada con k-folding. ¿Cuál fue el mejor modelo? Documentar cuál configuración de hiperparámetros es la mejor, y qué performance tiene.__"
   ]
  },
  {
   "cell_type": "code",
   "execution_count": 12,
   "metadata": {},
   "outputs": [],
   "source": [
    "from sklearn.model_selection import cross_val_score\n",
    "import numpy as np"
   ]
  },
  {
   "cell_type": "code",
   "execution_count": null,
   "metadata": {},
   "outputs": [],
   "source": [
    "def evaluate_with_cross_validation(x_train: pd.DataFrame, y_train: pd.Series, max_depth_range: range) -> dict:\n",
    "    \n",
    "    \"\"\"\n",
    "    Evaluate decision trees with different depths using k-fold cross-validation.\n",
    "    \n",
    "    Parameters:\n",
    "        x_train (pd.DataFrame): Training features.\n",
    "        y_train (pd.Series): Training labels.\n",
    "        max_depth_range (range): The range of max_depth values to test.\n",
    "    \n",
    "    Returns:\n",
    "        dict: A dictionary with the best max_depth and its corresponding score.\n",
    "        \n",
    "    \"\"\"\n",
    "\n",
    "    best_score = 0\n",
    "    best_depth = None\n",
    "    \n",
    "    for depth in max_depth_range:\n",
    "        model = DecisionTreeClassifier(max_depth=depth, random_state=42)\n",
    "        scores = cross_val_score(model, x_train, y_train, cv=5, scoring='accuracy')  # 5-fold CV\n",
    "        mean_score = np.mean(scores)\n",
    "        print(f\"Depth: {depth}, CV Accuracy: {mean_score:.4f}\")\n",
    "        \n",
    "        if mean_score > best_score:\n",
    "            best_score = mean_score\n",
    "            best_depth = depth\n",
    "    \n",
    "    return {'best_depth': best_depth, 'best_score': best_score}"
   ]
  },
  {
   "cell_type": "code",
   "execution_count": null,
   "metadata": {},
   "outputs": [
    {
     "name": "stdout",
     "output_type": "stream",
     "text": [
      "Depth: 1, CV Accuracy: 0.1954\n",
      "Depth: 2, CV Accuracy: 0.3656\n",
      "Depth: 3, CV Accuracy: 0.5885\n",
      "Depth: 4, CV Accuracy: 0.7948\n",
      "Depth: 5, CV Accuracy: 0.8342\n",
      "Depth: 6, CV Accuracy: 0.8693\n",
      "Depth: 7, CV Accuracy: 0.8966\n",
      "Depth: 8, CV Accuracy: 0.9140\n",
      "Depth: 9, CV Accuracy: 0.9224\n",
      "Depth: 10, CV Accuracy: 0.9262\n",
      "Best depth from cross-validation: 10 with CV accuracy: 0.9262\n"
     ]
    }
   ],
   "source": [
    "# Evaluar con k-fold cross-validation\n",
    "cv_result = evaluate_with_cross_validation(x_dev, y_dev, range(1, 11))\n",
    "print(f\"Best depth from cross-validation: {cv_result['best_depth']} with CV accuracy: {cv_result['best_score']:.4f}\")"
   ]
  },
  {
   "cell_type": "markdown",
   "metadata": {},
   "source": [
    "__d. Entrenar el modelo elegido a partir del inciso previo, ahora en todo el conjunto de desarrollo. Utilizarlo para predecir las clases en el conjunto held-out y reportar la performance.__"
   ]
  },
  {
   "cell_type": "code",
   "execution_count": 15,
   "metadata": {},
   "outputs": [],
   "source": [
    "from sklearn.metrics import confusion_matrix, classification_report\n",
    "import seaborn as sns\n",
    "import matplotlib.pyplot as plt"
   ]
  },
  {
   "cell_type": "code",
   "execution_count": null,
   "metadata": {},
   "outputs": [],
   "source": [
    "def evaluate_model_on_held_out(x_train: pd.DataFrame, y_train: pd.Series, x_test: pd.DataFrame, y_test: pd.Series, best_depth: int) -> None:\n",
    "   \n",
    "    \"\"\"\n",
    "    Train the best decision tree on the full development set and evaluate it on the held-out set.\n",
    "    \n",
    "    Parameters:\n",
    "        x_train (pd.DataFrame): Development features.\n",
    "        y_train (pd.Series): Development labels.\n",
    "        x_test (pd.DataFrame): Held-out features.\n",
    "        y_test (pd.Series): Held-out labels.\n",
    "        best_depth (int): The best max_depth determined earlier.\n",
    "        \n",
    "    \"\"\"\n",
    "\n",
    "    # Train the model with the best depth\n",
    "    model = DecisionTreeClassifier(max_depth=best_depth, random_state=42)\n",
    "    model.fit(x_train, y_train)\n",
    "    \n",
    "    # Make predictions on the held-out set\n",
    "    y_pred = model.predict(x_test)\n",
    "    \n",
    "    # Evaluate accuracy\n",
    "    accuracy = accuracy_score(y_test, y_pred)\n",
    "    print(f\"Accuracy on held-out set: {accuracy:.4f}\")\n",
    "    \n",
    "    # Print classification report\n",
    "    print(\"\\nClassification Report:\")\n",
    "    print(classification_report(y_test, y_pred))\n",
    "    \n",
    "    # Confusion matrix\n",
    "    conf_matrix = confusion_matrix(y_test, y_pred)\n",
    "    plt.figure(figsize=(10, 7))\n",
    "    sns.heatmap(conf_matrix, annot=True, fmt=\"d\", cmap=\"Blues\", xticklabels=range(10), yticklabels=range(10))\n",
    "    plt.title(\"Confusion Matrix\")\n",
    "    plt.xlabel(\"Predicted\")\n",
    "    plt.ylabel(\"True\")\n",
    "    plt.show()"
   ]
  },
  {
   "cell_type": "code",
   "execution_count": null,
   "metadata": {},
   "outputs": [
    {
     "name": "stdout",
     "output_type": "stream",
     "text": [
      "Accuracy on held-out set: 0.9279\n",
      "\n",
      "Classification Report:\n",
      "              precision    recall  f1-score   support\n",
      "\n",
      "           0       0.92      0.96      0.94       591\n",
      "           1       0.94      0.94      0.94       570\n",
      "           2       0.94      0.95      0.95       585\n",
      "           3       0.87      0.92      0.89       591\n",
      "           4       0.95      0.95      0.95       602\n",
      "           5       0.93      0.87      0.90       615\n",
      "           6       0.93      0.93      0.93       607\n",
      "           7       0.94      0.95      0.94       584\n",
      "           8       0.91      0.91      0.91       632\n",
      "           9       0.95      0.91      0.93       603\n",
      "\n",
      "    accuracy                           0.93      5980\n",
      "   macro avg       0.93      0.93      0.93      5980\n",
      "weighted avg       0.93      0.93      0.93      5980\n",
      "\n"
     ]
    },
    {
     "data": {
      "image/png": "[encoded data removed]",
      "text/plain": [
       "<Figure size 1000x700 with 2 Axes>"
      ]
     },
     "metadata": {},
     "output_type": "display_data"
    }
   ],
   "source": [
    "# Evaluar el mejor modelo en el conjunto held-out\n",
    "evaluate_model_on_held_out(x_dev, y_dev, x_held_out, y_held_out, cv_result['best_depth'])"
   ]
  },
  {
   "cell_type": "code",
   "execution_count": null,
   "metadata": {},
   "outputs": [],
   "source": []
  }
 ],
 "metadata": {
  "kernelspec": {
   "display_name": "Python 3",
   "language": "python",
   "name": "python3"
  },
  "language_info": {
   "codemirror_mode": {
    "name": "ipython",
    "version": 3
   },
   "file_extension": ".py",
   "mimetype": "text/x-python",
   "name": "python",
   "nbconvert_exporter": "python",
   "pygments_lexer": "ipython3",
   "version": "3.12.6"
  }
 },
 "nbformat": 4,
 "nbformat_minor": 2
}
