{
 "cells": [
  {
   "cell_type": "code",
   "execution_count": 1,
   "metadata": {},
   "outputs": [],
   "source": [
    "import sys\n",
    "#sys.path.append('c:/Users/tomas/Documents/Programación/Github/Patricionog/Modulio')\n",
    "sys.path.append('c:/Users/tomas/Documents/Programación/Github/Patricionog/OpenAI')\n",
    "import Gptio as GPT"
   ]
  },
  {
   "cell_type": "code",
   "execution_count": 2,
   "metadata": {},
   "outputs": [],
   "source": [
    "# API Key.\n"
   ]
  },
  {
   "cell_type": "code",
   "execution_count": 3,
   "metadata": {},
   "outputs": [],
   "source": [
    "# Ubicación del enunciado.\n",
    "Enunciado_Path = 'c:/Users/tomas/Documents/Programación/Github/Patricionog/Laboratorio de datos/Práctico 1/Enunciado.pdf'"
   ]
  },
  {
   "cell_type": "code",
   "execution_count": 4,
   "metadata": {},
   "outputs": [],
   "source": [
    "# Lista con las páginas.\n",
    "Enunciado_Paginas = GPT.Read_PDF(PDF_Path = Enunciado_Path)"
   ]
  },
  {
   "cell_type": "code",
   "execution_count": 5,
   "metadata": {},
   "outputs": [],
   "source": [
    "# String completo.\n",
    "Enunciado = '\\n'.join(Enunciado_Paginas)"
   ]
  },
  {
   "cell_type": "code",
   "execution_count": 6,
   "metadata": {},
   "outputs": [],
   "source": [
    "# Gráficos.\n",
    "Imagen_Regiones = ''"
   ]
  },
  {
   "cell_type": "code",
   "execution_count": 7,
   "metadata": {},
   "outputs": [],
   "source": [
    "# Consulta.\n",
    "Prompt = '''Necesito que me armes una sección de Materiales y métodos explicando que usé Python (biblioteca \n",
    "Pandas) para el procesamiento y filtrado de las tablas que piden en este trabajo. También contar que se usó\n",
    "SQL desde Python mediante la biblioteca inline SQL. Y además, que usé Matplotlib y Seaborn para los gráficos.\n",
    "Todo basándote en lo que piden en este informe: '''\n"
   ]
  },
  {
   "cell_type": "code",
   "execution_count": 8,
   "metadata": {},
   "outputs": [],
   "source": [
    "# Consulta con el enunciado.\n",
    "Prompt = Prompt + Enunciado"
   ]
  },
  {
   "cell_type": "code",
   "execution_count": 9,
   "metadata": {},
   "outputs": [
    {
     "ename": "NameError",
     "evalue": "name 'API_Key' is not defined",
     "output_type": "error",
     "traceback": [
      "\u001b[1;31m---------------------------------------------------------------------------\u001b[0m",
      "\u001b[1;31mNameError\u001b[0m                                 Traceback (most recent call last)",
      "Cell \u001b[1;32mIn[9], line 2\u001b[0m\n\u001b[0;32m      1\u001b[0m \u001b[38;5;66;03m# Respuesta.\u001b[39;00m\n\u001b[1;32m----> 2\u001b[0m Resumen, Tokens, Costo \u001b[38;5;241m=\u001b[39m GPT\u001b[38;5;241m.\u001b[39mAsk_And_Get_Tokens_And_Cost(Prompt, API_Key \u001b[38;5;241m=\u001b[39m \u001b[43mAPI_Key\u001b[49m, Be_Brief \u001b[38;5;241m=\u001b[39m \u001b[38;5;28;01mFalse\u001b[39;00m)\n\u001b[0;32m      4\u001b[0m \u001b[38;5;28mprint\u001b[39m(Resumen)\n",
      "\u001b[1;31mNameError\u001b[0m: name 'API_Key' is not defined"
     ]
    }
   ],
   "source": [
    "# Respuesta.\n",
    "Resumen, Tokens, Costo = GPT.Ask_And_Get_Tokens_And_Cost(Prompt, API_Key = API_Key, Be_Brief = False)\n",
    "\n",
    "print(Resumen)"
   ]
  }
 ],
 "metadata": {
  "kernelspec": {
   "display_name": "Python 3",
   "language": "python",
   "name": "python3"
  },
  "language_info": {
   "codemirror_mode": {
    "name": "ipython",
    "version": 3
   },
   "file_extension": ".py",
   "mimetype": "text/x-python",
   "name": "python",
   "nbconvert_exporter": "python",
   "pygments_lexer": "ipython3",
   "version": "3.12.6"
  }
 },
 "nbformat": 4,
 "nbformat_minor": 2
}
