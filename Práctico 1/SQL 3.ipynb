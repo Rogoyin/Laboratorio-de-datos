{
 "cells": [
  {
   "cell_type": "code",
   "execution_count": 2,
   "metadata": {},
   "outputs": [],
   "source": [
    "# Carga de bibliotecas.\n",
    "\n",
    "import pandas as pd\n",
    "from inline_sql import sql, sql_val\n",
    "from pandasql import sqldf\n",
    "\n",
    "# Carga de datasets necesarios.\n",
    "\n",
    "Sedes = pd.read_csv('Tablas/Sedes.csv')\n",
    "Secciones = pd.read_csv('Tablas/Secciones.csv')\n",
    "Migrantes = pd.read_csv('Tablas/Migrantes.csv')\n",
    "Redes_Sociales_DB = pd.read_csv('Tablas/Redes_Sociales.csv')\n",
    "H_IV = pd.read_csv('Tablas/h.iv.csv')\n",
    "\n",
    "# Consulta a la tabla resultante del punto h.iv.\n",
    "# Con esto se forma una nueva tabla con el pais y la red social.\n",
    "\n",
    "Query =  '''\n",
    "          SELECT DISTINCT pais, \"red_social\" \n",
    "          FROM H_IV\n",
    "          ORDER BY pais ASC\n",
    "\n",
    "'''\n",
    "\n",
    "H_IV2 = sqldf(Query)\n",
    "\n",
    "# Consulta a la tabla resultante para obtener la cantidad de tipo de redes.\n",
    "Query =  '''\n",
    "          SELECT DISTINCT pais, Count(\"red_social\") AS Cantidad_Tipo_Redes\n",
    "          FROM H_IV2\n",
    "          GROUP BY pais\n",
    "          ORDER BY Cantidad_Tipo_Redes DESC, pais ASC\n",
    "\n",
    "'''\n",
    "\n",
    "H_IV2 = sqldf(Query)\n",
    "H_IV2.to_csv('Tablas/h.iii.csv')"
   ]
  },
  {
   "cell_type": "code",
   "execution_count": null,
   "metadata": {},
   "outputs": [],
   "source": []
  },
  {
   "cell_type": "code",
   "execution_count": null,
   "metadata": {},
   "outputs": [],
   "source": []
  },
  {
   "cell_type": "code",
   "execution_count": null,
   "metadata": {},
   "outputs": [],
   "source": []
  },
  {
   "cell_type": "code",
   "execution_count": null,
   "metadata": {},
   "outputs": [],
   "source": []
  },
  {
   "cell_type": "code",
   "execution_count": null,
   "metadata": {},
   "outputs": [],
   "source": []
  }
 ],
 "metadata": {
  "kernelspec": {
   "display_name": "Python 3",
   "language": "python",
   "name": "python3"
  },
  "language_info": {
   "codemirror_mode": {
    "name": "ipython",
    "version": 3
   },
   "file_extension": ".py",
   "mimetype": "text/x-python",
   "name": "python",
   "nbconvert_exporter": "python",
   "pygments_lexer": "ipython3",
   "version": "3.12.6"
  }
 },
 "nbformat": 4,
 "nbformat_minor": 2
}
