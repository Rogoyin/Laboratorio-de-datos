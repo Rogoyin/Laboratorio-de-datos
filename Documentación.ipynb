{
 "cells": [
  {
   "cell_type": "markdown",
   "id": "b5ff9115-9310-4ca7-936e-de186ad46356",
   "metadata": {},
   "source": [
    "# Código"
   ]
  },
  {
   "cell_type": "markdown",
   "id": "e3996faf-c0f4-423e-9a37-78391fe21d8b",
   "metadata": {
    "jp-MarkdownHeadingCollapsed": true
   },
   "source": [
    "### Números, booleanos y operaciones"
   ]
  },
  {
   "cell_type": "markdown",
   "id": "fe7fd7de-5190-4b17-9b9a-5a2ffbc1c1e1",
   "metadata": {},
   "source": [
    "Booleanos:\n",
    "- not: negación\n",
    "- and: conjunción\n",
    "- or: disyunción\n",
    "\n",
    "Se obtienen valores de verdad: True o False"
   ]
  },
  {
   "cell_type": "markdown",
   "id": "e998e49d-082e-402f-a426-27a1a951383e",
   "metadata": {},
   "source": [
    "#### División entera.\n",
    "\n",
    "Si el resultado tiene coma, le elimina eso y deja el entero."
   ]
  },
  {
   "cell_type": "code",
   "execution_count": 117,
   "id": "c9f47aad-85ff-424d-82c0-73fd294cc69f",
   "metadata": {},
   "outputs": [
    {
     "data": {
      "text/plain": [
       "1"
      ]
     },
     "execution_count": 117,
     "metadata": {},
     "output_type": "execute_result"
    }
   ],
   "source": [
    "6 // 4"
   ]
  },
  {
   "cell_type": "markdown",
   "id": "35fbbc55-25f1-40a8-945d-242b24929b14",
   "metadata": {},
   "source": [
    "#### Resto de la división.\n",
    "\n",
    "Devuelve el resto, no el resultado"
   ]
  },
  {
   "cell_type": "code",
   "execution_count": 118,
   "id": "1c112154-08b2-4d67-adae-312a678c50fe",
   "metadata": {},
   "outputs": [
    {
     "data": {
      "text/plain": [
       "2"
      ]
     },
     "execution_count": 118,
     "metadata": {},
     "output_type": "execute_result"
    }
   ],
   "source": [
    "6 % 4"
   ]
  },
  {
   "cell_type": "markdown",
   "id": "67938168-a242-4d83-a088-138e0863e5e7",
   "metadata": {},
   "source": [
    "#### Decimales.\n",
    "\n",
    "Formateo de decimales"
   ]
  },
  {
   "cell_type": "code",
   "execution_count": 119,
   "id": "8442a697-da95-40fe-b3be-d9f37214cd9c",
   "metadata": {},
   "outputs": [],
   "source": [
    "A = 5\n",
    "\n",
    "# Decimales.\n",
    "A = f\"{A:.2f}\"\n"
   ]
  },
  {
   "cell_type": "markdown",
   "id": "c35e1fda-a5b4-4c4e-9cb8-0b63678dafe7",
   "metadata": {},
   "source": [
    "#### str.format\n",
    "Insertar valores en una cadena mediante el uso de llaves {}"
   ]
  },
  {
   "cell_type": "code",
   "execution_count": 120,
   "id": "7d3a99aa-4279-464b-a459-18d094363cd5",
   "metadata": {},
   "outputs": [],
   "source": [
    "Nombre = \"Ana\"\n",
    "Edad = 30\n",
    "Mensaje = \"Hola, mi nombre es {} y tengo {} años.\".format(Nombre, Edad)\n",
    "\n",
    "# Imprime: Hola, mi nombre es Ana y tengo 30 años."
   ]
  },
  {
   "cell_type": "markdown",
   "id": "9be61f85-0f87-45a0-8c53-f3e2ef46d4f2",
   "metadata": {},
   "source": [
    "#### Formato para alineación y ancho."
   ]
  },
  {
   "cell_type": "code",
   "execution_count": 121,
   "id": "a20dd4ea-6bdc-4859-be8e-08ac6d0f1f1f",
   "metadata": {},
   "outputs": [
    {
     "name": "stdout",
     "output_type": "stream",
     "text": [
      "     Texto\n",
      "Texto     \n",
      "  Texto   \n"
     ]
    }
   ],
   "source": [
    "print(\"{:>10}\".format(\"Texto\"))  \n",
    "# Imprime: '      Texto' (alineación a la derecha con 10 caracteres de ancho)\n",
    "\n",
    "print(\"{:<10}\".format(\"Texto\"))  \n",
    "# Imprime: 'Texto     ' (alineación a la izquierda con 10 caracteres de ancho)\n",
    "\n",
    "print(\"{:^10}\".format(\"Texto\"))  \n",
    "# Imprime: 'Texto     ' (alineación centrado con 10 caracteres de ancho)"
   ]
  },
  {
   "cell_type": "markdown",
   "id": "11c810da-5ec9-4648-ab9d-d3430b825fe1",
   "metadata": {
    "jp-MarkdownHeadingCollapsed": true
   },
   "source": [
    "### Archivos"
   ]
  },
  {
   "cell_type": "markdown",
   "id": "4eb02b4d-3d43-428d-b24d-4cffbff16035",
   "metadata": {},
   "source": [
    "Abrir archivo para leerlo."
   ]
  },
  {
   "cell_type": "code",
   "execution_count": 122,
   "id": "366a223f-23d4-49c8-9df6-3a60911c2cff",
   "metadata": {},
   "outputs": [],
   "source": [
    "Ruta = 'My Clippings.txt'\n",
    "\n",
    "# Abre el archivo.\n",
    "Archivo = open(Ruta, 'rt', encoding='utf-8')\n",
    "\n",
    "# Modo de lectura de texto: rt\n",
    "# r: read\n",
    "# t: text"
   ]
  },
  {
   "cell_type": "markdown",
   "id": "2005ba89-30ba-4796-b900-091082e2813e",
   "metadata": {},
   "source": [
    "Leer el archivo en Python."
   ]
  },
  {
   "cell_type": "code",
   "execution_count": 123,
   "id": "85f7e77f-96c5-49ed-a10e-efb7521d95d0",
   "metadata": {},
   "outputs": [
    {
     "ename": "UnicodeDecodeError",
     "evalue": "'utf-8' codec can't decode byte 0xed in position 19: invalid continuation byte",
     "output_type": "error",
     "traceback": [
      "\u001b[1;31m---------------------------------------------------------------------------\u001b[0m",
      "\u001b[1;31mUnicodeDecodeError\u001b[0m                        Traceback (most recent call last)",
      "Cell \u001b[1;32mIn[123], line 1\u001b[0m\n\u001b[1;32m----> 1\u001b[0m Datos \u001b[38;5;241m=\u001b[39m Archivo\u001b[38;5;241m.\u001b[39mread()\n",
      "File \u001b[1;32m<frozen codecs>:322\u001b[0m, in \u001b[0;36mdecode\u001b[1;34m(self, input, final)\u001b[0m\n",
      "\u001b[1;31mUnicodeDecodeError\u001b[0m: 'utf-8' codec can't decode byte 0xed in position 19: invalid continuation byte"
     ]
    }
   ],
   "source": [
    "Datos = Archivo.read()"
   ]
  },
  {
   "cell_type": "markdown",
   "id": "a04ef284-b3a2-4bb4-846f-648e288e3109",
   "metadata": {},
   "source": []
  },
  {
   "cell_type": "code",
   "execution_count": null,
   "id": "e8c3041d-4650-49ed-9daa-e1da1b943d8c",
   "metadata": {},
   "outputs": [],
   "source": []
  },
  {
   "cell_type": "markdown",
   "id": "8d0790ba-b7b2-45b4-bd8c-1a0c4d0a33a6",
   "metadata": {},
   "source": [
    "#### with."
   ]
  },
  {
   "cell_type": "markdown",
   "id": "2cd5e675-b5b5-4087-8db1-fea8fd24e363",
   "metadata": {},
   "source": [
    "Otra forma de abrir archivos."
   ]
  },
  {
   "cell_type": "code",
   "execution_count": null,
   "id": "42a51530-c96f-424e-bf88-237898b83a3c",
   "metadata": {},
   "outputs": [],
   "source": [
    "with open(Ruta, 'rt', encoding='utf-8') as Archivo:\n",
    "    Cadena = Archivo.read()"
   ]
  },
  {
   "cell_type": "markdown",
   "id": "4d22ee1f-5eb7-4fa7-b306-174452c8f9dc",
   "metadata": {},
   "source": [
    "Imprimir cada línea."
   ]
  },
  {
   "cell_type": "code",
   "execution_count": null,
   "id": "a613aada-14b3-46a0-8e5d-4d09196aa9cc",
   "metadata": {},
   "outputs": [],
   "source": [
    "with open(Ruta, 'rt', encoding='utf-8') as Archivo:\n",
    "    i = 0\n",
    "    for Linea in Archivo:\n",
    "        if i < 3:\n",
    "            print (Linea)\n",
    "        i = i + 1"
   ]
  },
  {
   "cell_type": "markdown",
   "id": "1394df4a-5772-45f4-ae40-5a2905323e2a",
   "metadata": {},
   "source": [
    "Escribir archivos."
   ]
  },
  {
   "cell_type": "code",
   "execution_count": null,
   "id": "ac3f970b-1d50-4ea3-b945-6ac79842bbb2",
   "metadata": {},
   "outputs": [],
   "source": [
    "with open(Ruta, 'rt', encoding='utf-8') as Archivo:\n",
    "    Cadena = Archivo.read()\n",
    "\n",
    "Cadena_Actualizada = 'Esta es una nueva línea\\n\\n' + Cadena"
   ]
  },
  {
   "cell_type": "code",
   "execution_count": null,
   "id": "00ecdf94-348e-4798-bb9a-871cc40f31dc",
   "metadata": {},
   "outputs": [],
   "source": [
    "# Write mode.\n",
    "Cadena_Escritura = open(Ruta,\"w\")\n",
    "\n",
    "# Escribir.\n",
    "Cadena_Escritura.write(Cadena_Actualizada)"
   ]
  },
  {
   "cell_type": "markdown",
   "id": "df8ade08-9d42-400d-9b74-b28af2bf4ca1",
   "metadata": {},
   "source": [
    "Cerrar archivo."
   ]
  },
  {
   "cell_type": "code",
   "execution_count": null,
   "id": "901b13fe-7cf7-4616-aaf1-f1d8b2959e91",
   "metadata": {},
   "outputs": [],
   "source": [
    "Archivo.close()"
   ]
  },
  {
   "cell_type": "markdown",
   "id": "22904f8b-5fe1-4d69-b315-bfabdd3f34db",
   "metadata": {
    "jp-MarkdownHeadingCollapsed": true
   },
   "source": [
    "### Strings"
   ]
  },
  {
   "cell_type": "markdown",
   "id": "dd09400a-199d-47c4-9f6c-f4c69455a530",
   "metadata": {},
   "source": [
    "Convertir strings a mayúsculas o minúsculas."
   ]
  },
  {
   "cell_type": "code",
   "execution_count": null,
   "id": "c2b2e67f-0fe8-426a-9ced-4904797f8371",
   "metadata": {},
   "outputs": [],
   "source": [
    "String = \"hola hola\"\n",
    "\n",
    "Minuscula = String.lower()\n",
    "Mayuscula = String.upper()"
   ]
  },
  {
   "cell_type": "markdown",
   "id": "76bdaa16-29a3-4e6d-8a1e-2d21fb45ec84",
   "metadata": {},
   "source": [
    "Borrar espacios al principio y final de los strings."
   ]
  },
  {
   "cell_type": "code",
   "execution_count": null,
   "id": "6d36bcf2-5943-41c7-8b2f-db42bdd320fa",
   "metadata": {},
   "outputs": [],
   "source": [
    "Sin_Espacio = String.strip()"
   ]
  },
  {
   "cell_type": "markdown",
   "id": "29d56af3-b5db-44ce-88d9-de3f6178f5ed",
   "metadata": {},
   "source": [
    "Verificar si una cadena está en otra cadena."
   ]
  },
  {
   "cell_type": "code",
   "execution_count": null,
   "id": "0dd8f9bc-4d7f-419c-9807-6ecdd871f644",
   "metadata": {},
   "outputs": [],
   "source": [
    "C1 = 'Hol'\n",
    "C2 = 'HolaHola'\n",
    "\n",
    "if C1 in C2:\n",
    "    print(\"Sí, está en la cadena\")"
   ]
  },
  {
   "attachments": {
    "075c41e1-c482-49af-89b7-dc089e636e78.png": {
     "image/png": "[encoded data removed]"
    }
   },
   "cell_type": "markdown",
   "id": "b87838f4-21aa-4f4b-9f7e-8834663ce0fc",
   "metadata": {},
   "source": [
    "Códigos de escape:\n",
    "\n",
    "![image.png](attachment:075c41e1-c482-49af-89b7-dc089e636e78.png)"
   ]
  },
  {
   "cell_type": "markdown",
   "id": "090b33d2-71fb-4206-b412-631ae2f185a5",
   "metadata": {},
   "source": [
    "f-strings, para incluir variables en los strings."
   ]
  },
  {
   "cell_type": "code",
   "execution_count": null,
   "id": "ac92fc40-1e0e-4b47-9f5e-0bfc0b4739ab",
   "metadata": {},
   "outputs": [],
   "source": [
    "print(f'Esta es la variable C1: {C1}')"
   ]
  },
  {
   "cell_type": "markdown",
   "id": "9efbe295-ecbb-4ff4-b490-bee55f28d2be",
   "metadata": {},
   "source": [
    "Formatos."
   ]
  },
  {
   "cell_type": "code",
   "execution_count": null,
   "id": "af47c0a0-0995-472c-9e0c-d1449f1a3d1c",
   "metadata": {},
   "outputs": [],
   "source": []
  },
  {
   "cell_type": "markdown",
   "id": "e85c8d25-aeda-4c97-a7a4-effdda8e7d8a",
   "metadata": {
    "jp-MarkdownHeadingCollapsed": true
   },
   "source": [
    "### Diccionarios"
   ]
  },
  {
   "cell_type": "markdown",
   "id": "0e9729b7-c452-444b-8d33-e91fd65d39a7",
   "metadata": {},
   "source": [
    "Estructuras de datos que permiten almacenar pares de clave-valor. Cada clave en un diccionario es única, y se utiliza para acceder al valor correspondiente.\n",
    "\n",
    "- Las claves deben ser de un tipo de datos inmutable, como cadenas (str), números (int, float), o tuplas (tuple), pero no listas ni otros diccionarios.\n",
    "- Son mutables, lo que significa que se puede modificar, agregar o eliminar elementos después de su creación.\n",
    "- Permiten un acceso rápido a los valores a través de sus claves."
   ]
  },
  {
   "cell_type": "markdown",
   "id": "18f87ab1-50a7-4837-94e6-53cda8c7a623",
   "metadata": {},
   "source": [
    "En limpio: cada clave tiene un valor. Por ejemplo: \"Ciudad\" es la clave y \"Derqui\" es el valor."
   ]
  },
  {
   "cell_type": "code",
   "execution_count": null,
   "id": "68daf9af-bb62-45ae-bcc6-91232aeef53e",
   "metadata": {},
   "outputs": [],
   "source": [
    "Diccionario_Ejemplo = {\n",
    "    \"Nombre\": \"Juan\",\n",
    "    \"Edad\": 25,\n",
    "    \"Ciudad\": \"Buenos Aires\"\n",
    "}"
   ]
  },
  {
   "cell_type": "markdown",
   "id": "041f4670-51f3-4266-9343-e20539f29724",
   "metadata": {},
   "source": [
    "Accedemos a un valor de una clave en particular."
   ]
  },
  {
   "cell_type": "code",
   "execution_count": null,
   "id": "81622618-8ee3-4b33-82f3-20a044e2d941",
   "metadata": {},
   "outputs": [],
   "source": [
    "Diccionario_Ejemplo['Nombre']"
   ]
  },
  {
   "cell_type": "markdown",
   "id": "ca7bcdec-31de-4416-86f5-cdbfad200d31",
   "metadata": {},
   "source": [
    "Agregar un elemento."
   ]
  },
  {
   "cell_type": "code",
   "execution_count": null,
   "id": "325836c2-1c49-4443-b7ae-da32f2bc3c94",
   "metadata": {},
   "outputs": [],
   "source": [
    "Diccionario_Ejemplo['Profesión'] = 'Biólogo'"
   ]
  },
  {
   "cell_type": "markdown",
   "id": "e0fdc065-dc53-471b-8833-cbc8340fa15f",
   "metadata": {},
   "source": [
    "Modificar un elemento."
   ]
  },
  {
   "cell_type": "code",
   "execution_count": null,
   "id": "9c3b70e0-4a05-44b9-9c3a-0dac2a550620",
   "metadata": {},
   "outputs": [],
   "source": [
    "Diccionario_Ejemplo['Edad'] = 30"
   ]
  },
  {
   "cell_type": "markdown",
   "id": "800907b3-5999-492d-8493-e3f2bd1e5f55",
   "metadata": {},
   "source": [
    "Eliminar un elemento."
   ]
  },
  {
   "cell_type": "code",
   "execution_count": null,
   "id": "5e444896-0d0f-4411-9796-bad1a67c19cd",
   "metadata": {},
   "outputs": [],
   "source": [
    "del Diccionario_Ejemplo['Ciudad']"
   ]
  },
  {
   "cell_type": "markdown",
   "id": "07dca3dd-3033-4126-8b8a-db3283406598",
   "metadata": {},
   "source": [
    "Verificar que hay una clave en un diccionario."
   ]
  },
  {
   "cell_type": "code",
   "execution_count": null,
   "id": "450609a2-4dc8-4261-a0fa-0a2bc1e77484",
   "metadata": {},
   "outputs": [],
   "source": [
    "if \"Nombre\" in Diccionario_Ejemplo:\n",
    "    print(\"La clave 'nombre' está en el diccionario\")"
   ]
  },
  {
   "cell_type": "markdown",
   "id": "6b3d5669-cb6d-4e82-a490-d111fcc12e96",
   "metadata": {},
   "source": [
    "Recorrer un diccionario."
   ]
  },
  {
   "cell_type": "code",
   "execution_count": null,
   "id": "92267b44-f628-4e9a-94cf-5f3e98549112",
   "metadata": {},
   "outputs": [],
   "source": [
    "for Clave, Valor in Diccionario_Ejemplo.items():\n",
    "    print(f'{Clave}: {Valor}')"
   ]
  },
  {
   "cell_type": "markdown",
   "id": "c6ffc150-6c4e-4784-a215-d4ef2f80ea60",
   "metadata": {},
   "source": [
    "Obtener todas las claves."
   ]
  },
  {
   "cell_type": "code",
   "execution_count": null,
   "id": "be143049-04a4-4e76-b566-b84c94512674",
   "metadata": {},
   "outputs": [],
   "source": [
    "Claves = Diccionario_Ejemplo.keys()"
   ]
  },
  {
   "cell_type": "markdown",
   "id": "5c7bccab-f327-4d41-bff4-c0f2012addee",
   "metadata": {},
   "source": [
    "Obtener todos los valores."
   ]
  },
  {
   "cell_type": "code",
   "execution_count": null,
   "id": "02490d05-b4e2-4c09-a552-8c4c88d6251b",
   "metadata": {},
   "outputs": [],
   "source": [
    "Valores = Diccionario_Ejemplo.values()"
   ]
  },
  {
   "cell_type": "markdown",
   "id": "7f15c8d4-e749-4bbf-a2d6-4357d70fcc58",
   "metadata": {},
   "source": [
    "Combinar dos diccionarios."
   ]
  },
  {
   "cell_type": "code",
   "execution_count": null,
   "id": "b411bdcc-7e19-457e-9fd1-f999d3c9e17e",
   "metadata": {},
   "outputs": [],
   "source": [
    "Otro_Diccionario = {\"País\": \"Argentina\", \n",
    "                    \"Cuit\": 30-0000000-00}\n",
    "\n",
    "Diccionario_Ejemplo.update(Otro_Diccionario)"
   ]
  },
  {
   "cell_type": "markdown",
   "id": "3f985182-6bbb-496a-9187-329c44eea382",
   "metadata": {},
   "source": [
    "Función get.\n",
    "Sirve para cuando no sabemos si la clave está o no en el diccionario, y es para evitar errores.\n",
    "\n",
    "Tiene este formato:\n",
    "\n",
    "Nombre = Diccionario.get(\"Nombre\", \"No especificado\")\n",
    "\n",
    "La lógica es la siguiente:\n",
    "- Estoy buscando de la clave \"Nombre\".\n",
    "- Si la clave \"Nombre\" está en el diccionario, me guarda en la variable su valor.\n",
    "- Si la clave \"Nombre\" no está en el diccionario, me guarda en la variable el string que especifico después, \"No especificado\"."
   ]
  },
  {
   "cell_type": "code",
   "execution_count": null,
   "id": "d1b5fd9a-67d0-48b4-970b-f0ae6b4adaa5",
   "metadata": {},
   "outputs": [],
   "source": [
    "Nombre = Diccionario_Ejemplo.get(\"Nombre\", \"No especificado\")\n",
    "\n",
    "Nombre"
   ]
  },
  {
   "cell_type": "markdown",
   "id": "871e32fc-9fbb-4e17-bb5d-dd2381a5405e",
   "metadata": {
    "jp-MarkdownHeadingCollapsed": true
   },
   "source": [
    "### Secuencias."
   ]
  },
  {
   "cell_type": "markdown",
   "id": "5f716b06-302f-429e-a466-e02693026c98",
   "metadata": {},
   "source": [
    "#### Bucle for.\n",
    "\n",
    "Recorrer una secuencia (lista, diccionario, tupla, string) con un bucle for yendo por cada elemento."
   ]
  },
  {
   "cell_type": "code",
   "execution_count": null,
   "id": "b7860c30-32a7-4c22-84ea-ac3cc35b0368",
   "metadata": {},
   "outputs": [],
   "source": [
    "Lista = [1,2,3]\n",
    "\n",
    "for Elemento in Lista:\n",
    "   Elemento = Elemento + 1"
   ]
  },
  {
   "cell_type": "markdown",
   "id": "54b312ea-1589-465d-b2d4-8ecbcf47da8c",
   "metadata": {},
   "source": [
    "#### in.\n",
    "\n",
    "Verificar si un elemento está en una secuencia."
   ]
  },
  {
   "cell_type": "code",
   "execution_count": null,
   "id": "e540658a-8d02-469f-bd02-8ad8ccbe747a",
   "metadata": {},
   "outputs": [],
   "source": [
    "if 1 in Lista:\n",
    "    Variable = 'Ok'"
   ]
  },
  {
   "cell_type": "markdown",
   "id": "9502b782-6d6e-4230-8e79-31cdb6edf482",
   "metadata": {},
   "source": [
    "#### Count.\n",
    "\n",
    "Contar cuántas veces aparece un elemento en una secuencia."
   ]
  },
  {
   "cell_type": "code",
   "execution_count": null,
   "id": "71d0d775-d052-4f50-a02a-3d0470cba400",
   "metadata": {},
   "outputs": [],
   "source": [
    "Numeros = [1, 2, 3, 4, 1, 2, 1]\n",
    "Unos = Numeros.count(1)\n",
    "\n",
    "# Salida = 3"
   ]
  },
  {
   "cell_type": "code",
   "execution_count": null,
   "id": "f21ca0bd-038c-4723-b2d0-26dda6ff6b8c",
   "metadata": {},
   "outputs": [],
   "source": [
    "String = 'aeaea'\n",
    "Aes = String.count('a')\n",
    "\n",
    "# Salida = 3"
   ]
  },
  {
   "cell_type": "markdown",
   "id": "2eb7d96d-08c6-4c8c-b106-f8e6c14776b2",
   "metadata": {},
   "source": [
    "#### Arrays.\n",
    "\n",
    "Pasar lista a arreglo de numpy."
   ]
  },
  {
   "cell_type": "code",
   "execution_count": null,
   "id": "fb4ad2bb-86e2-479f-9584-a467a78d2ade",
   "metadata": {},
   "outputs": [],
   "source": [
    "import numpy as np\n",
    "\n",
    "Lista = [10, 20, 30, 40, 50]\n",
    "Array = np.array(Lista)"
   ]
  },
  {
   "cell_type": "markdown",
   "id": "65ea215d-356c-4fa7-8f63-3cd41f9c8791",
   "metadata": {},
   "source": [
    "#### Borrar y agregar elementos de una lista."
   ]
  },
  {
   "cell_type": "code",
   "execution_count": null,
   "id": "df1189dd-d2ca-4564-a454-ff7fe4bf3e53",
   "metadata": {},
   "outputs": [],
   "source": [
    "Lista = [1,2,3,1]\n",
    "\n",
    "# Insertar un elemento al principio.\n",
    "Lista.insert(0, 'Elemento')\n",
    "\n",
    "# Borra el primer elemento que es igual a lo que se especifica.\n",
    "Lista.remove(1)"
   ]
  },
  {
   "cell_type": "markdown",
   "id": "6af16682-0160-4637-a062-b23104583922",
   "metadata": {},
   "source": [
    "#### Split.\n",
    "\n",
    "Obtener lista de un string según el separador."
   ]
  },
  {
   "cell_type": "code",
   "execution_count": null,
   "id": "b974957a-545d-47c4-9903-6f9d4e90057b",
   "metadata": {},
   "outputs": [],
   "source": [
    "String = '1,2,3,4,5,6,7'\n",
    "Lista = String.split(',')\n",
    "\n",
    "Lista"
   ]
  },
  {
   "cell_type": "markdown",
   "id": "2e7b9a72-5ce6-45d8-b4a3-34d8e10a7b42",
   "metadata": {},
   "source": [
    "#### Tolist.\n",
    "\n",
    "Pasar tupla o arreglo a lista."
   ]
  },
  {
   "cell_type": "code",
   "execution_count": null,
   "id": "6aad30f3-68f0-4d3f-8140-33a834ff276f",
   "metadata": {},
   "outputs": [],
   "source": [
    "Arreglo = np.array([1,2,3])\n",
    "Lista = Arreglo.tolist()\n",
    "\n",
    "Lista"
   ]
  },
  {
   "cell_type": "markdown",
   "id": "0fa13041-3fae-411f-8372-470f552d7932",
   "metadata": {},
   "source": [
    "#### Matrices.\n",
    "\n",
    "Son listas de listas.\n",
    "- Número de filas: cantidad de listas.\n",
    "- Número de columnas: cantidad de elementos de cada lista."
   ]
  },
  {
   "cell_type": "code",
   "execution_count": null,
   "id": "6e78a4ec-a4b5-4d4a-b7f9-2bbb355e9316",
   "metadata": {},
   "outputs": [],
   "source": [
    "Matriz = [[1,2], [3,4]]"
   ]
  },
  {
   "cell_type": "markdown",
   "id": "da014c60-b148-4d18-9b8a-938057c587f8",
   "metadata": {},
   "source": [
    "#### Tuplas.\n",
    "\n",
    "Son como vectores."
   ]
  },
  {
   "cell_type": "code",
   "execution_count": null,
   "id": "1e2e4e7b-ad5b-4ca9-89ae-eaad1b0d74a7",
   "metadata": {},
   "outputs": [],
   "source": [
    "Tupla = (1,2)"
   ]
  },
  {
   "cell_type": "markdown",
   "id": "4e946756-5a83-43b4-863a-aad78547c41b",
   "metadata": {},
   "source": [
    "#### Conjuntos."
   ]
  },
  {
   "cell_type": "code",
   "execution_count": null,
   "id": "6ea6c7e7-74c4-4952-a84c-904cf0649cb3",
   "metadata": {},
   "outputs": [],
   "source": [
    "Conjunto = {1,2}"
   ]
  },
  {
   "cell_type": "code",
   "execution_count": null,
   "id": "537c9ed4-0766-46eb-9ada-77a1db61bc37",
   "metadata": {},
   "outputs": [],
   "source": [
    "# Agregar elemento.\n",
    "Conjunto.add(3)"
   ]
  },
  {
   "cell_type": "code",
   "execution_count": null,
   "id": "6bc6ddc0-2b62-424d-8044-e3519bae7b96",
   "metadata": {},
   "outputs": [],
   "source": [
    "# Eliminar elemento.\n",
    "Conjunto.remove(2)"
   ]
  },
  {
   "cell_type": "markdown",
   "id": "d24fb996-7a4e-40ed-b5c9-bfbf91eacfbf",
   "metadata": {
    "jp-MarkdownHeadingCollapsed": true
   },
   "source": [
    "### Pandas"
   ]
  },
  {
   "cell_type": "code",
   "execution_count": null,
   "id": "7c3eedac-11b8-4d12-a425-fe4d10bb78c9",
   "metadata": {},
   "outputs": [],
   "source": [
    "import pandas as pd"
   ]
  },
  {
   "cell_type": "markdown",
   "id": "c80f55e0-ef48-4a7e-a7c0-0aeeeebbc5a9",
   "metadata": {},
   "source": [
    "Crear un dataframe."
   ]
  },
  {
   "cell_type": "code",
   "execution_count": null,
   "id": "4ff0ddca-f5f1-4218-a4cd-e4c00d2f07b9",
   "metadata": {},
   "outputs": [],
   "source": [
    "# Vacío.\n",
    "df = pd.DataFrame()"
   ]
  },
  {
   "cell_type": "code",
   "execution_count": null,
   "id": "256e76be-1704-4697-94e2-736ecc9dac3e",
   "metadata": {},
   "outputs": [],
   "source": [
    "# Con columnas específicas.\n",
    "Columnas = ['columna1', 'columna2', 'columna3']\n",
    "df = pd.DataFrame(columns = Columnas)"
   ]
  },
  {
   "cell_type": "code",
   "execution_count": null,
   "id": "3d1461b8-4956-4dcd-b9a3-698b7d2f5077",
   "metadata": {},
   "outputs": [],
   "source": [
    "# Con índices y columnas específicas.\n",
    "Columnas = ['columna1', 'columna2', 'columna3']\n",
    "Indices = ['fila1', 'fila2', 'fila3']\n",
    "df = pd.DataFrame(index = Indices, columns = Columnas)"
   ]
  },
  {
   "cell_type": "markdown",
   "id": "14144be3-83ad-41b1-b50f-cce13002fa0d",
   "metadata": {},
   "source": [
    "Agregar datos nuevos."
   ]
  },
  {
   "cell_type": "code",
   "execution_count": null,
   "id": "557b9b80-0b94-47d7-9b8e-8802ec89cb15",
   "metadata": {},
   "outputs": [],
   "source": [
    "# Agregar una fila con datos.\n",
    "df.loc[0] = [1, 2, 3]"
   ]
  },
  {
   "cell_type": "code",
   "execution_count": null,
   "id": "2461babb-3cf9-43fa-b1a9-48463f8b5b55",
   "metadata": {},
   "outputs": [],
   "source": [
    "# Agregar una nueva columna con datos.\n",
    "df['Columna 4'] = [7, 8, 9, 10]"
   ]
  },
  {
   "cell_type": "markdown",
   "id": "6c2e9f05-abcc-444e-af18-cd928dd9a688",
   "metadata": {},
   "source": [
    "Cambiar un dato específico."
   ]
  },
  {
   "cell_type": "code",
   "execution_count": null,
   "id": "6cec6a8e-0cf3-4c07-b7a7-4d711b4dc741",
   "metadata": {},
   "outputs": [],
   "source": [
    "df.loc[1, 'Columna 4'] = 10"
   ]
  },
  {
   "cell_type": "markdown",
   "id": "c1d0414e-5cf8-4d3e-bba0-259a40e7e3ce",
   "metadata": {},
   "source": [
    "Obtener columnas o filas."
   ]
  },
  {
   "cell_type": "code",
   "execution_count": null,
   "id": "aa88f6a6-5ca9-444f-8427-0fba6611c087",
   "metadata": {},
   "outputs": [],
   "source": [
    "Columnas = df.columns\n",
    "Index = df.index"
   ]
  },
  {
   "cell_type": "markdown",
   "id": "c2591142-6ff6-4338-989f-936d2f57fb58",
   "metadata": {},
   "source": [
    "Filtrar filas."
   ]
  },
  {
   "cell_type": "code",
   "execution_count": null,
   "id": "160eee21-941e-472c-8be7-7ceefb31ecde",
   "metadata": {},
   "outputs": [],
   "source": [
    "# Filtrar filas donde el valor es mayor a 30.\n",
    "df = df[df['Columna 4'] > 0]"
   ]
  },
  {
   "cell_type": "code",
   "execution_count": null,
   "id": "51265f8f-9b98-49fb-969b-94737cd4d066",
   "metadata": {},
   "outputs": [],
   "source": [
    "# Mantener filas en las que esté el valor cualquiera de una lista.\n",
    "Filas_A_Mantener = [7, 8]\n",
    "\n",
    "df = df[df['Columna 4'].isin(Filas_A_Mantener)]"
   ]
  },
  {
   "cell_type": "code",
   "execution_count": null,
   "id": "b80eca49-39e3-4954-abea-9dae8b93b263",
   "metadata": {},
   "outputs": [],
   "source": [
    "# Borrar filas en las que esté el valor cualquiera de una lista.\n",
    "Filas_A_Borrar = [7]\n",
    "\n",
    "df = df[~df['Columna 4'].isin(Filas_A_Borrar)]"
   ]
  },
  {
   "cell_type": "markdown",
   "id": "5f52788c-023b-418e-9c2f-7f93e48eaadd",
   "metadata": {},
   "source": [
    "Cambiar nombres de columnas o filas."
   ]
  },
  {
   "cell_type": "code",
   "execution_count": null,
   "id": "446acb86-367f-46b1-b03c-7fd85930f23a",
   "metadata": {},
   "outputs": [],
   "source": [
    "# Renombrar columnas usando rename()\n",
    "df = df.rename(columns={'columna1': 'Nombre', 'Columna 4': 'Edad'})"
   ]
  },
  {
   "cell_type": "markdown",
   "id": "48375c56-cfb6-4fde-b07d-00b5d352ec95",
   "metadata": {},
   "source": [
    "Concatenar dataframes."
   ]
  },
  {
   "cell_type": "code",
   "execution_count": null,
   "id": "a3986645-dbb2-4a8c-8e22-6a284a84fe53",
   "metadata": {},
   "outputs": [],
   "source": [
    "# Concatenar horizontalmente.\n",
    "df = pd.concat([df, df], axis=1)"
   ]
  },
  {
   "cell_type": "code",
   "execution_count": null,
   "id": "4b23a8f0-ca0a-44a6-b17a-f20419c75a7a",
   "metadata": {},
   "outputs": [],
   "source": [
    "# Concatenar verticalmente.\n",
    "df = pd.concat([df, df], axis=0)"
   ]
  },
  {
   "cell_type": "markdown",
   "id": "80680a69-d63d-4469-9cd2-3e4e6eefbabc",
   "metadata": {},
   "source": [
    "#### Extraer filas"
   ]
  },
  {
   "cell_type": "code",
   "execution_count": null,
   "id": "950b8ffe-e253-426f-bfb2-df8ad8e9515f",
   "metadata": {},
   "outputs": [],
   "source": [
    "df.iloc[0:1]"
   ]
  },
  {
   "cell_type": "markdown",
   "id": "acee2565-206c-4df0-899d-0ea74b766b4a",
   "metadata": {},
   "source": [
    "#### Extraer columnas"
   ]
  },
  {
   "cell_type": "code",
   "execution_count": null,
   "id": "4f336c33-e636-4e0f-9364-e0d075b2130e",
   "metadata": {},
   "outputs": [],
   "source": [
    "df['Nombre']"
   ]
  },
  {
   "cell_type": "markdown",
   "id": "b5d7ee65-234b-46ca-9953-bc44c966ae81",
   "metadata": {},
   "source": [
    "#### Fila random."
   ]
  },
  {
   "cell_type": "code",
   "execution_count": null,
   "id": "2277cc51-58b6-48ea-b84b-91ac80589072",
   "metadata": {},
   "outputs": [],
   "source": [
    "df.sample()\n",
    "df.sample(n = 1) # 1 fila random"
   ]
  },
  {
   "cell_type": "markdown",
   "id": "014dd7a3-99b9-4074-b7b6-594eab19849d",
   "metadata": {},
   "source": [
    "#### Filtros por condición.\n",
    "\n",
    "El resultado es un booleano (T o F) por cada celda."
   ]
  },
  {
   "cell_type": "code",
   "execution_count": null,
   "id": "54a7ae93-6a71-4869-a7e9-a3b3caa630a8",
   "metadata": {},
   "outputs": [],
   "source": [
    "Edad_Grandes = df['Edad']>=5\n",
    "Edad_Grandes.sum() # Cuenta los True de ese booleano."
   ]
  },
  {
   "cell_type": "markdown",
   "id": "bc556a4d-6cbb-45e0-b99c-9502eee747ad",
   "metadata": {
    "jp-MarkdownHeadingCollapsed": true
   },
   "source": [
    "### Random"
   ]
  },
  {
   "cell_type": "markdown",
   "id": "56852c40-e9d3-49a3-8b6b-99ef5a3f5964",
   "metadata": {},
   "source": [
    "Genera números aleatorios."
   ]
  },
  {
   "cell_type": "code",
   "execution_count": null,
   "id": "ec1454ba-bf4b-48e5-8501-509af65c32bf",
   "metadata": {},
   "outputs": [],
   "source": [
    "import random"
   ]
  },
  {
   "cell_type": "markdown",
   "id": "cf3dc014-44ce-4e3f-af60-a4f976e0fd36",
   "metadata": {},
   "source": [
    "#### Seed."
   ]
  },
  {
   "cell_type": "markdown",
   "id": "76e06f65-6479-4578-a9c4-cba0eebca109",
   "metadata": {},
   "source": [
    "Establece la semilla del generador de números aleatorios en un número específico. Esto garantiza que cada vez que se ejecuta el código, se obtiene la misma secuencia de números aleatorios, lo que es útil para pruebas y reproducibilidad."
   ]
  },
  {
   "cell_type": "code",
   "execution_count": null,
   "id": "c094bf53-1666-40df-8833-f149307aae0b",
   "metadata": {},
   "outputs": [],
   "source": [
    "random.seed(42)"
   ]
  },
  {
   "cell_type": "code",
   "execution_count": null,
   "id": "05a78835-b7b4-45c8-81bd-3836a16689ab",
   "metadata": {},
   "outputs": [],
   "source": [
    "# Un número aleatorio.\n",
    "Numero = random.random()"
   ]
  },
  {
   "cell_type": "code",
   "execution_count": null,
   "id": "bb357789-4d7f-4991-bad8-afbc6de5361b",
   "metadata": {},
   "outputs": [],
   "source": [
    "# Entre dos números.\n",
    "Numero = random.randint(1,10)"
   ]
  },
  {
   "cell_type": "code",
   "execution_count": null,
   "id": "3a01ca1b-649f-40f8-9a11-5fdebbc86dc2",
   "metadata": {},
   "outputs": [],
   "source": []
  }
 ],
 "metadata": {
  "kernelspec": {
   "display_name": "Python 3 (ipykernel)",
   "language": "python",
   "name": "python3"
  },
  "language_info": {
   "codemirror_mode": {
    "name": "ipython",
    "version": 3
   },
   "file_extension": ".py",
   "mimetype": "text/x-python",
   "name": "python",
   "nbconvert_exporter": "python",
   "pygments_lexer": "ipython3",
   "version": "3.11.7"
  }
 },
 "nbformat": 4,
 "nbformat_minor": 5
}
